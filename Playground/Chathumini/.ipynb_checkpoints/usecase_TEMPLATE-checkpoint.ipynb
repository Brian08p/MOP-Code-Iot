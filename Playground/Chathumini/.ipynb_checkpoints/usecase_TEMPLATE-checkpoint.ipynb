{
 "cells": [
  {
   "cell_type": "markdown",
   "metadata": {},
   "source": [
    "<div class=\"usecase-title\">Impact of Greenhouse Gas Emissions</div>\n",
    "\n",
    "<div class=\"usecase-authors\"><b>Authored by: </b> Chathumini Satharasinghe</div>"
   ]
  },
  {
   "cell_type": "markdown",
   "metadata": {},
   "source": [
    "<div class=\"usecase-duration\"><b>Duration:</b> {90} mins</div>\n",
    "\n",
    "<div class=\"usecase-level-skill\">\n",
    "    <div class=\"usecase-level\"><b>Level: </b>Intermediate</div>\n",
    "    <div class=\"usecase-skill\"><b>Pre-requisite Skills: </b>{Python, and add any more skills needed}</div>\n",
    "</div>"
   ]
  },
  {
   "cell_type": "markdown",
   "metadata": {},
   "source": [
    "<div class=\"usecase-section-header\">Scenario</div>"
   ]
  },
  {
   "cell_type": "markdown",
   "metadata": {},
   "source": [
    "As an environmental data analyst, I want to explore the relationship between greenhouse gas (GHG) emissions and microclimate conditions in Melbourne so that I can understand the impact of emissions on urban temperature and humidity trends over time and support sustainable urban planning."
   ]
  },
  {
   "cell_type": "markdown",
   "metadata": {},
   "source": [
    "<div class=\"usecase-section-header\">What this use case will teach you</div>"
   ]
  },
  {
   "cell_type": "markdown",
   "metadata": {},
   "source": [
    "This use case will teach you how to integrate environmental datasets from Melbourne’s open data portal, clean and process them, and analyze the connection between urban greenhouse gas emissions and climate variables such as temperature and humidity. You'll also learn how to visualize trends and correlations, and generate data-driven insights that can inform policy or urban design strategies."
   ]
  },
  {
   "cell_type": "markdown",
   "metadata": {},
   "source": [
    "At the end of this use case you will:\n",
    "- Demonstrate skills in environmental data acquisition and integration.\n",
    "- Apply data wrangling techniques on multi-source open datasets.\n",
    "- Perform exploratory data analysis (EDA) to identify patterns and trends.\n",
    "- Conduct correlation analysis between emissions and climate indicators.\n",
    "- Create visualizations using Python to communicate findings effectively.\n",
    "- Derive insights for sustainable development and climate adaptation"
   ]
  },
  {
   "cell_type": "markdown",
   "metadata": {},
   "source": [
    "<div class=\"usecase-section-header\"><b>Understanding the Impact of Greenhouse Gas Emissions on Melbourne’s Climate</b></div>"
   ]
  },
  {
   "cell_type": "markdown",
   "metadata": {},
   "source": [
    "The rising levels of greenhouse gas (GHG) emissions are a major contributor to climate change, particularly in urban areas where industrial activity, transport, and energy consumption are concentrated. Understanding how these emissions affect local climate conditions, such as temperature and humidity, is critical for city planners and policymakers aiming to develop sustainable solutions.\n",
    "\n",
    "This use case explores the relationship between GHG emissions and microclimate changes in Melbourne. It leverages two publicly available datasets from the City of Melbourne Open Data Platform:\n",
    "\n",
    "1. **City of Melbourne Municipal Greenhouse Gas Emissions (2013–2020):**  \n",
    "   This dataset provides annual emissions data (in tonnes of CO₂ equivalent), segmented by emission source (e.g., transport, energy, waste) and emission type (Council vs. Community).  \n",
    "   👉 [Access Dataset](https://data.melbourne.vic.gov.au/explore/dataset/city-of-melbourne-municipal-greenhouse-gas-emissions-2013-2020/information/)\n",
    "\n",
    "2. **Microclimate Sensor Readings:**  \n",
    "   This dataset contains hourly environmental sensor data collected from various Melbourne locations, including temperature, humidity, solar radiation, and wind speed readings.  \n",
    "   👉 [Access Dataset](https://data.melbourne.vic.gov.au/explore/dataset/microclimate-sensor-readings/information/)\n",
    "\n",
    "By combining these datasets, this use case aims to identify trends and correlations between emissions and local climate variables, offering insights that support evidence-based environmental and infrastructure policy-making.\n",
    "\n"
   ]
  },
  {
   "cell_type": "markdown",
   "metadata": {},
   "source": []
  }
 ],
 "metadata": {
  "kernelspec": {
   "display_name": "Python 3 (ipykernel)",
   "language": "python",
   "name": "python3"
  },
  "language_info": {
   "codemirror_mode": {
    "name": "ipython",
    "version": 3
   },
   "file_extension": ".py",
   "mimetype": "text/x-python",
   "name": "python",
   "nbconvert_exporter": "python",
   "pygments_lexer": "ipython3",
   "version": "3.8.20"
  },
  "vscode": {
   "interpreter": {
    "hash": "369f2c481f4da34e4445cda3fffd2e751bd1c4d706f27375911949ba6bb62e1c"
   }
  }
 },
 "nbformat": 4,
 "nbformat_minor": 4
}
