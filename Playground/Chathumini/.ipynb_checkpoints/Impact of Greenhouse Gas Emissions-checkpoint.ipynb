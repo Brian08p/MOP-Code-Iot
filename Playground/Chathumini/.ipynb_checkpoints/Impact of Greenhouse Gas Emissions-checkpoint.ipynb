{
 "cells": [
  {
   "cell_type": "markdown",
   "metadata": {},
   "source": [
    "<div class=\"usecase-title\">Impact of Greenhouse Gas Emissions</div>\n",
    "\n",
    "<div class=\"usecase-authors\"><b>Authored by: </b> Chathumini Satharasinghe</div>"
   ]
  },
  {
   "cell_type": "markdown",
   "metadata": {},
   "source": [
    "<div class=\"usecase-duration\"><b>Duration:</b> 270 mins</div>\n",
    "\n",
    "<div class=\"usecase-level-skill\">\n",
    "    <div class=\"usecase-level\"><b>Level: </b>Intermediate</div>\n",
    "    <div class=\"usecase-skill\"><b>Pre-requisite Skills: </b>Python(Pandas, NumPy, Matplotlib, Seaborn), Machine Learning,SciPy, scikit-learn</div>\n",
    "</div>"
   ]
  },
  {
   "cell_type": "markdown",
   "metadata": {},
   "source": [
    "<div class=\"usecase-section-header\"><b>Scenario</b></div>"
   ]
  },
  {
   "cell_type": "markdown",
   "metadata": {},
   "source": [
    "As an environmental data analyst, I want to explore the relationship between greenhouse gas (GHG) emissions and microclimate conditions in Melbourne so that I can understand the impact of emissions on urban temperature and humidity trends over time and support sustainable urban planning."
   ]
  },
  {
   "cell_type": "markdown",
   "metadata": {},
   "source": [
    "<div class=\"usecase-section-header\">What this use case will teach you</div>"
   ]
  },
  {
   "cell_type": "markdown",
   "metadata": {},
   "source": [
    "This use case will teach you how to integrate environmental datasets from Melbourne’s open data portal, clean and process them, and analyze the connection between urban greenhouse gas emissions and climate variables such as temperature and humidity. You'll also learn how to visualize trends and correlations, and generate data-driven insights that can inform policy or urban design strategies."
   ]
  },
  {
   "cell_type": "markdown",
   "metadata": {},
   "source": [
    "At the end of this use case you will:\n",
    "- Demonstrate skills in environmental data acquisition and integration.\n",
    "- Apply data wrangling techniques on multi-source open datasets.\n",
    "- Perform exploratory data analysis (EDA) to identify patterns and trends.\n",
    "- Conduct correlation analysis between emissions and climate indicators.\n",
    "- Create visualizations using Python to communicate findings effectively.\n",
    "- Derive insights for sustainable development and climate adaptation"
   ]
  },
  {
   "cell_type": "markdown",
   "metadata": {},
   "source": [
    "<div class=\"usecase-section-header\"><b>Understanding the Impact of Greenhouse Gas Emissions on Melbourne’s Climate</b></div>"
   ]
  },
  {
   "cell_type": "markdown",
   "metadata": {},
   "source": [
    "The rising levels of greenhouse gas (GHG) emissions are a major contributor to climate change, particularly in urban areas where industrial activity, transport, and energy consumption are concentrated. Understanding how these emissions affect local climate conditions, such as temperature and humidity, is critical for city planners and policymakers aiming to develop sustainable solutions.\n",
    "\n",
    "This use case explores the relationship between GHG emissions and microclimate changes in Melbourne. It leverages two publicly available datasets from the City of Melbourne Open Data Platform:\n",
    "\n",
    "1. **City of Melbourne Municipal Greenhouse Gas Emissions (2013–2020):**  \n",
    "   This dataset provides annual emissions data (in tonnes of CO₂ equivalent), segmented by emission source (e.g., transport, energy, waste) and emission type (Council vs. Community).  \n",
    "   👉 [Access Dataset](https://data.melbourne.vic.gov.au/explore/dataset/city-of-melbourne-municipal-greenhouse-gas-emissions-2013-2020/information/)\n",
    "\n",
    "2. **Microclimate Sensor Readings:**  \n",
    "   This dataset contains hourly environmental sensor data collected from various Melbourne locations, including temperature, humidity, solar radiation, and wind speed readings.  \n",
    "   👉 [Access Dataset](https://data.melbourne.vic.gov.au/explore/dataset/microclimate-sensor-readings/information/)\n",
    "\n",
    "By combining these datasets, this use case aims to identify trends and correlations between emissions and local climate variables, offering insights that support evidence-based environmental and infrastructure policy-making.\n",
    "\n"
   ]
  },
  {
   "cell_type": "code",
   "execution_count": 40,
   "metadata": {},
   "outputs": [
    {
     "name": "stdout",
     "output_type": "stream",
     "text": [
      "Requirement already satisfied: statsmodels in /opt/anaconda3/lib/python3.12/site-packages (0.14.2)\n",
      "Requirement already satisfied: numpy>=1.22.3 in /opt/anaconda3/lib/python3.12/site-packages (from statsmodels) (1.26.4)\n",
      "Requirement already satisfied: scipy!=1.9.2,>=1.8 in /opt/anaconda3/lib/python3.12/site-packages (from statsmodels) (1.13.1)\n",
      "Requirement already satisfied: pandas!=2.1.0,>=1.4 in /opt/anaconda3/lib/python3.12/site-packages (from statsmodels) (2.2.2)\n",
      "Requirement already satisfied: patsy>=0.5.6 in /opt/anaconda3/lib/python3.12/site-packages (from statsmodels) (0.5.6)\n",
      "Requirement already satisfied: packaging>=21.3 in /opt/anaconda3/lib/python3.12/site-packages (from statsmodels) (24.1)\n",
      "Requirement already satisfied: python-dateutil>=2.8.2 in /opt/anaconda3/lib/python3.12/site-packages (from pandas!=2.1.0,>=1.4->statsmodels) (2.9.0.post0)\n",
      "Requirement already satisfied: pytz>=2020.1 in /opt/anaconda3/lib/python3.12/site-packages (from pandas!=2.1.0,>=1.4->statsmodels) (2024.1)\n",
      "Requirement already satisfied: tzdata>=2022.7 in /opt/anaconda3/lib/python3.12/site-packages (from pandas!=2.1.0,>=1.4->statsmodels) (2023.3)\n",
      "Requirement already satisfied: six in /opt/anaconda3/lib/python3.12/site-packages (from patsy>=0.5.6->statsmodels) (1.16.0)\n"
     ]
    }
   ],
   "source": [
    "!pip install statsmodels"
   ]
  },
  {
   "cell_type": "code",
   "execution_count": 41,
   "metadata": {},
   "outputs": [],
   "source": [
    "import pandas as pd\n",
    "import numpy as np\n",
    "import matplotlib.pyplot as plt\n",
    "import seaborn as sns\n",
    "from datetime import datetime\n",
    "import warnings\n",
    "warnings.filterwarnings('ignore')\n",
    "from scipy.stats import pearsonr\n",
    "# import statsmodels.api as sm  # Now this should work\n",
    "import requests\n",
    "from io import StringIO\n",
    "# Set plotting style\n",
    "sns.set(style='whitegrid')\n"
   ]
  },
  {
   "cell_type": "markdown",
   "metadata": {},
   "source": [
    "**Function to Request Datasets via API**"
   ]
  },
  {
   "cell_type": "code",
   "execution_count": 42,
   "metadata": {},
   "outputs": [],
   "source": [
    "def request_data(dataset_id, format='csv', delimiter=';', api_key=None):\n",
    "    base_url = 'https://data.melbourne.vic.gov.au/api/explore/v2.1/catalog/datasets/'\n",
    "    url = f'{base_url}{dataset_id}/exports/{format}'\n",
    "\n",
    "    params = {\n",
    "        'select': '*',\n",
    "        'limit': -1,\n",
    "        'lang': 'en',\n",
    "        'timezone': 'UTC'\n",
    "    }\n",
    "\n",
    "    headers = {}\n",
    "    if api_key:\n",
    "        headers['Authorization'] = f'Bearer {api_key}'\n",
    "\n",
    "    try:\n",
    "        response = requests.get(url, params=params, headers=headers, timeout=10)\n",
    "        response.raise_for_status()\n",
    "\n",
    "        if format == 'csv':\n",
    "            content = response.content.decode('utf-8')\n",
    "            df = pd.read_csv(StringIO(content), delimiter=delimiter)\n",
    "            return df\n",
    "        else:\n",
    "            raise ValueError(f\"Unsupported format: {format}\")\n",
    "\n",
    "    except requests.exceptions.RequestException as e:\n",
    "        raise Exception(f'API request failed: {e}')"
   ]
  },
  {
   "cell_type": "markdown",
   "metadata": {},
   "source": [
    "**Load Datasets**"
   ]
  },
  {
   "cell_type": "markdown",
   "metadata": {},
   "source": [
    "1. Greenhouse Gas Emissions Dataset"
   ]
  },
  {
   "cell_type": "code",
   "execution_count": 43,
   "metadata": {},
   "outputs": [],
   "source": [
    "emissions_df = request_data(\"city-of-melbourne-municipal-greenhouse-gas-emissions-2013-2020\")"
   ]
  },
  {
   "cell_type": "code",
   "execution_count": null,
   "metadata": {},
   "outputs": [],
   "source": []
  },
  {
   "cell_type": "code",
   "execution_count": 44,
   "metadata": {},
   "outputs": [
    {
     "data": {
      "text/html": [
       "<div>\n",
       "<style scoped>\n",
       "    .dataframe tbody tr th:only-of-type {\n",
       "        vertical-align: middle;\n",
       "    }\n",
       "\n",
       "    .dataframe tbody tr th {\n",
       "        vertical-align: top;\n",
       "    }\n",
       "\n",
       "    .dataframe thead th {\n",
       "        text-align: right;\n",
       "    }\n",
       "</style>\n",
       "<table border=\"1\" class=\"dataframe\">\n",
       "  <thead>\n",
       "    <tr style=\"text-align: right;\">\n",
       "      <th></th>\n",
       "      <th>year</th>\n",
       "      <th>population</th>\n",
       "      <th>area_km2</th>\n",
       "      <th>gdp_m</th>\n",
       "      <th>residential_buildings_scope_1</th>\n",
       "      <th>residential_buildings_scope_2</th>\n",
       "      <th>residential_buildings_scope_3</th>\n",
       "      <th>commercial_and_institutional_buildings_and_facilities_scope_1</th>\n",
       "      <th>commercial_and_institutional_buildings_and_facilities_scope_2</th>\n",
       "      <th>commercial_and_institutional_buildings_and_facilities_scope_3</th>\n",
       "      <th>...</th>\n",
       "      <th>wastewater_generated_in_the_city_scope_2</th>\n",
       "      <th>wastewater_generated_in_the_city_scope_3</th>\n",
       "      <th>emissions_from_industrial_processes_occurring_in_the_city_boundary_scope_1</th>\n",
       "      <th>emissions_from_product_use_occurring_within_the_city_boundary_scope_2</th>\n",
       "      <th>emissions_from_livestock_scope_3</th>\n",
       "      <th>emissions_from_land_scope_1</th>\n",
       "      <th>emissions_from_aggregate_sources_and_non_co2_emission_sources_on_land_scope_2</th>\n",
       "      <th>other_scope_3_scope_3</th>\n",
       "      <th>mrep1_and_mrep2_power_purchase_agreement_city_of_melbourne_scope_2</th>\n",
       "      <th>yarra_trams_power_purchase_agreement_victorian_state_government_scope_2</th>\n",
       "    </tr>\n",
       "  </thead>\n",
       "  <tbody>\n",
       "    <tr>\n",
       "      <th>0</th>\n",
       "      <td>2019</td>\n",
       "      <td>178955</td>\n",
       "      <td>37.7 km2</td>\n",
       "      <td>70221</td>\n",
       "      <td>37913</td>\n",
       "      <td>276303</td>\n",
       "      <td>27089</td>\n",
       "      <td>170602</td>\n",
       "      <td>2714112</td>\n",
       "      <td>266089</td>\n",
       "      <td>...</td>\n",
       "      <td>7847</td>\n",
       "      <td>False</td>\n",
       "      <td>NE</td>\n",
       "      <td>NE</td>\n",
       "      <td>NE</td>\n",
       "      <td>NE</td>\n",
       "      <td>NE</td>\n",
       "      <td>NE</td>\n",
       "      <td>-44352</td>\n",
       "      <td>-21144</td>\n",
       "    </tr>\n",
       "    <tr>\n",
       "      <th>1</th>\n",
       "      <td>2018</td>\n",
       "      <td>169961</td>\n",
       "      <td>37.7km2</td>\n",
       "      <td>66472</td>\n",
       "      <td>37520</td>\n",
       "      <td>256112</td>\n",
       "      <td>23936</td>\n",
       "      <td>165523</td>\n",
       "      <td>2876672</td>\n",
       "      <td>268848</td>\n",
       "      <td>...</td>\n",
       "      <td>7580</td>\n",
       "      <td>False</td>\n",
       "      <td>NE</td>\n",
       "      <td>NE</td>\n",
       "      <td>NE</td>\n",
       "      <td>NE</td>\n",
       "      <td>NE</td>\n",
       "      <td>53,702</td>\n",
       "      <td>0</td>\n",
       "      <td>0</td>\n",
       "    </tr>\n",
       "    <tr>\n",
       "      <th>2</th>\n",
       "      <td>2017</td>\n",
       "      <td>152992</td>\n",
       "      <td>37.7km2</td>\n",
       "      <td>69780</td>\n",
       "      <td>35733</td>\n",
       "      <td>262254</td>\n",
       "      <td>24283</td>\n",
       "      <td>147148</td>\n",
       "      <td>2938098</td>\n",
       "      <td>272046</td>\n",
       "      <td>...</td>\n",
       "      <td>6709</td>\n",
       "      <td>False</td>\n",
       "      <td>NE</td>\n",
       "      <td>NE</td>\n",
       "      <td>NE</td>\n",
       "      <td>NE</td>\n",
       "      <td>NE</td>\n",
       "      <td>51,761</td>\n",
       "      <td>0</td>\n",
       "      <td>0</td>\n",
       "    </tr>\n",
       "    <tr>\n",
       "      <th>3</th>\n",
       "      <td>2016</td>\n",
       "      <td>148000</td>\n",
       "      <td>38</td>\n",
       "      <td>68859</td>\n",
       "      <td>35547</td>\n",
       "      <td>257854</td>\n",
       "      <td>23656</td>\n",
       "      <td>131662</td>\n",
       "      <td>2608552</td>\n",
       "      <td>239317</td>\n",
       "      <td>...</td>\n",
       "      <td>3042</td>\n",
       "      <td>False</td>\n",
       "      <td>NE</td>\n",
       "      <td>NE</td>\n",
       "      <td>NE</td>\n",
       "      <td>NE</td>\n",
       "      <td>NE</td>\n",
       "      <td>48,313</td>\n",
       "      <td>0</td>\n",
       "      <td>0</td>\n",
       "    </tr>\n",
       "    <tr>\n",
       "      <th>4</th>\n",
       "      <td>2015</td>\n",
       "      <td>139000</td>\n",
       "      <td>38</td>\n",
       "      <td>68859</td>\n",
       "      <td>35637</td>\n",
       "      <td>264951</td>\n",
       "      <td>30753</td>\n",
       "      <td>131662</td>\n",
       "      <td>2680347</td>\n",
       "      <td>283790</td>\n",
       "      <td>...</td>\n",
       "      <td>3042</td>\n",
       "      <td>False</td>\n",
       "      <td>NE</td>\n",
       "      <td>NE</td>\n",
       "      <td>NE</td>\n",
       "      <td>NE</td>\n",
       "      <td>NE</td>\n",
       "      <td>48,313</td>\n",
       "      <td>0</td>\n",
       "      <td>0</td>\n",
       "    </tr>\n",
       "  </tbody>\n",
       "</table>\n",
       "<p>5 rows × 60 columns</p>\n",
       "</div>"
      ],
      "text/plain": [
       "   year  population  area_km2  gdp_m  residential_buildings_scope_1  \\\n",
       "0  2019      178955  37.7 km2  70221                          37913   \n",
       "1  2018      169961   37.7km2  66472                          37520   \n",
       "2  2017      152992   37.7km2  69780                          35733   \n",
       "3  2016      148000        38  68859                          35547   \n",
       "4  2015      139000        38  68859                          35637   \n",
       "\n",
       "   residential_buildings_scope_2  residential_buildings_scope_3  \\\n",
       "0                         276303                          27089   \n",
       "1                         256112                          23936   \n",
       "2                         262254                          24283   \n",
       "3                         257854                          23656   \n",
       "4                         264951                          30753   \n",
       "\n",
       "   commercial_and_institutional_buildings_and_facilities_scope_1  \\\n",
       "0                                             170602               \n",
       "1                                             165523               \n",
       "2                                             147148               \n",
       "3                                             131662               \n",
       "4                                             131662               \n",
       "\n",
       "   commercial_and_institutional_buildings_and_facilities_scope_2  \\\n",
       "0                                            2714112               \n",
       "1                                            2876672               \n",
       "2                                            2938098               \n",
       "3                                            2608552               \n",
       "4                                            2680347               \n",
       "\n",
       "   commercial_and_institutional_buildings_and_facilities_scope_3  ...  \\\n",
       "0                                             266089              ...   \n",
       "1                                             268848              ...   \n",
       "2                                             272046              ...   \n",
       "3                                             239317              ...   \n",
       "4                                             283790              ...   \n",
       "\n",
       "   wastewater_generated_in_the_city_scope_2  \\\n",
       "0                                      7847   \n",
       "1                                      7580   \n",
       "2                                      6709   \n",
       "3                                      3042   \n",
       "4                                      3042   \n",
       "\n",
       "   wastewater_generated_in_the_city_scope_3  \\\n",
       "0                                     False   \n",
       "1                                     False   \n",
       "2                                     False   \n",
       "3                                     False   \n",
       "4                                     False   \n",
       "\n",
       "   emissions_from_industrial_processes_occurring_in_the_city_boundary_scope_1  \\\n",
       "0                                                 NE                            \n",
       "1                                                 NE                            \n",
       "2                                                 NE                            \n",
       "3                                                 NE                            \n",
       "4                                                 NE                            \n",
       "\n",
       "  emissions_from_product_use_occurring_within_the_city_boundary_scope_2  \\\n",
       "0                                                 NE                      \n",
       "1                                                 NE                      \n",
       "2                                                 NE                      \n",
       "3                                                 NE                      \n",
       "4                                                 NE                      \n",
       "\n",
       "  emissions_from_livestock_scope_3 emissions_from_land_scope_1  \\\n",
       "0                               NE                          NE   \n",
       "1                               NE                          NE   \n",
       "2                               NE                          NE   \n",
       "3                               NE                          NE   \n",
       "4                               NE                          NE   \n",
       "\n",
       "  emissions_from_aggregate_sources_and_non_co2_emission_sources_on_land_scope_2  \\\n",
       "0                                                 NE                              \n",
       "1                                                 NE                              \n",
       "2                                                 NE                              \n",
       "3                                                 NE                              \n",
       "4                                                 NE                              \n",
       "\n",
       "  other_scope_3_scope_3  \\\n",
       "0                    NE   \n",
       "1                53,702   \n",
       "2                51,761   \n",
       "3                48,313   \n",
       "4                48,313   \n",
       "\n",
       "  mrep1_and_mrep2_power_purchase_agreement_city_of_melbourne_scope_2  \\\n",
       "0                                             -44352                   \n",
       "1                                                  0                   \n",
       "2                                                  0                   \n",
       "3                                                  0                   \n",
       "4                                                  0                   \n",
       "\n",
       "  yarra_trams_power_purchase_agreement_victorian_state_government_scope_2  \n",
       "0                                             -21144                       \n",
       "1                                                  0                       \n",
       "2                                                  0                       \n",
       "3                                                  0                       \n",
       "4                                                  0                       \n",
       "\n",
       "[5 rows x 60 columns]"
      ]
     },
     "execution_count": 44,
     "metadata": {},
     "output_type": "execute_result"
    }
   ],
   "source": [
    "emissions_df = request_data(\"city-of-melbourne-municipal-greenhouse-gas-emissions-2013-2020\")\n",
    "emissions_df.head()"
   ]
  },
  {
   "cell_type": "markdown",
   "metadata": {},
   "source": [
    "\n",
    "2. Microclimate Sensor Readings Dataset\n",
    "   "
   ]
  },
  {
   "cell_type": "code",
   "execution_count": 45,
   "metadata": {},
   "outputs": [],
   "source": [
    "climate_df = request_data(\"microclimate-sensor-readings\", delimiter=',')"
   ]
  },
  {
   "cell_type": "code",
   "execution_count": 46,
   "metadata": {},
   "outputs": [
    {
     "data": {
      "text/html": [
       "<div>\n",
       "<style scoped>\n",
       "    .dataframe tbody tr th:only-of-type {\n",
       "        vertical-align: middle;\n",
       "    }\n",
       "\n",
       "    .dataframe tbody tr th {\n",
       "        vertical-align: top;\n",
       "    }\n",
       "\n",
       "    .dataframe thead th {\n",
       "        text-align: right;\n",
       "    }\n",
       "</style>\n",
       "<table border=\"1\" class=\"dataframe\">\n",
       "  <thead>\n",
       "    <tr style=\"text-align: right;\">\n",
       "      <th></th>\n",
       "      <th>local_time</th>\n",
       "      <th>id</th>\n",
       "      <th>site_id</th>\n",
       "      <th>sensor_id</th>\n",
       "      <th>value</th>\n",
       "      <th>type</th>\n",
       "      <th>units</th>\n",
       "      <th>gatewayhub_id</th>\n",
       "      <th>site_status</th>\n",
       "    </tr>\n",
       "  </thead>\n",
       "  <tbody>\n",
       "    <tr>\n",
       "      <th>0</th>\n",
       "      <td>2023-11-29T22:15:02+00:00</td>\n",
       "      <td>8110553</td>\n",
       "      <td>1011</td>\n",
       "      <td>5b</td>\n",
       "      <td>74.38</td>\n",
       "      <td>TPH.RH</td>\n",
       "      <td>%</td>\n",
       "      <td>arc1055</td>\n",
       "      <td>C</td>\n",
       "    </tr>\n",
       "    <tr>\n",
       "      <th>1</th>\n",
       "      <td>2023-11-29T22:15:02+00:00</td>\n",
       "      <td>8110558</td>\n",
       "      <td>1011</td>\n",
       "      <td>5c</td>\n",
       "      <td>1010.80</td>\n",
       "      <td>TPH.PRESSURE</td>\n",
       "      <td>hPa</td>\n",
       "      <td>arc1055</td>\n",
       "      <td>C</td>\n",
       "    </tr>\n",
       "    <tr>\n",
       "      <th>2</th>\n",
       "      <td>2023-11-29T22:15:03+00:00</td>\n",
       "      <td>8110562</td>\n",
       "      <td>1011</td>\n",
       "      <td>6</td>\n",
       "      <td>0.00</td>\n",
       "      <td>WS</td>\n",
       "      <td>km/h</td>\n",
       "      <td>arc1055</td>\n",
       "      <td>C</td>\n",
       "    </tr>\n",
       "    <tr>\n",
       "      <th>3</th>\n",
       "      <td>2023-11-29T22:15:04+00:00</td>\n",
       "      <td>8110606</td>\n",
       "      <td>1012</td>\n",
       "      <td>6</td>\n",
       "      <td>0.00</td>\n",
       "      <td>WS</td>\n",
       "      <td>km/h</td>\n",
       "      <td>arc1048</td>\n",
       "      <td>C</td>\n",
       "    </tr>\n",
       "    <tr>\n",
       "      <th>4</th>\n",
       "      <td>2023-11-29T22:15:11+00:00</td>\n",
       "      <td>8110489</td>\n",
       "      <td>1009</td>\n",
       "      <td>0a</td>\n",
       "      <td>5.30</td>\n",
       "      <td>PM2.5</td>\n",
       "      <td>ug/m^3</td>\n",
       "      <td>arc1050</td>\n",
       "      <td>C</td>\n",
       "    </tr>\n",
       "  </tbody>\n",
       "</table>\n",
       "</div>"
      ],
      "text/plain": [
       "                  local_time       id  site_id sensor_id    value  \\\n",
       "0  2023-11-29T22:15:02+00:00  8110553     1011        5b    74.38   \n",
       "1  2023-11-29T22:15:02+00:00  8110558     1011        5c  1010.80   \n",
       "2  2023-11-29T22:15:03+00:00  8110562     1011         6     0.00   \n",
       "3  2023-11-29T22:15:04+00:00  8110606     1012         6     0.00   \n",
       "4  2023-11-29T22:15:11+00:00  8110489     1009        0a     5.30   \n",
       "\n",
       "           type   units gatewayhub_id site_status  \n",
       "0        TPH.RH       %       arc1055           C  \n",
       "1  TPH.PRESSURE     hPa       arc1055           C  \n",
       "2            WS    km/h       arc1055           C  \n",
       "3            WS    km/h       arc1048           C  \n",
       "4         PM2.5  ug/m^3       arc1050           C  "
      ]
     },
     "execution_count": 46,
     "metadata": {},
     "output_type": "execute_result"
    }
   ],
   "source": [
    "microclimate_sensors_data = request_data(\"microclimate-sensor-readings\")\n",
    "microclimate_sensors_data.head()"
   ]
  },
  {
   "cell_type": "markdown",
   "metadata": {},
   "source": [
    "# Data Wrangling #"
   ]
  },
  {
   "cell_type": "markdown",
   "metadata": {},
   "source": [
    "**Dataset cleaning and tidying** "
   ]
  },
  {
   "cell_type": "code",
   "execution_count": 47,
   "metadata": {},
   "outputs": [
    {
     "name": "stdout",
     "output_type": "stream",
     "text": [
      "['local_time', 'id', 'site_id', 'sensor_id', 'value', 'type', 'units', 'gatewayhub_id', 'site_status']\n"
     ]
    }
   ],
   "source": [
    "print(microclimate_sensors_data.columns.tolist())"
   ]
  },
  {
   "cell_type": "code",
   "execution_count": 48,
   "metadata": {},
   "outputs": [
    {
     "name": "stdout",
     "output_type": "stream",
     "text": [
      "['year', 'population', 'area_km2', 'gdp_m', 'residential_buildings_scope_1', 'residential_buildings_scope_2', 'residential_buildings_scope_3', 'commercial_and_institutional_buildings_and_facilities_scope_1', 'commercial_and_institutional_buildings_and_facilities_scope_2', 'commercial_and_institutional_buildings_and_facilities_scope_3', 'manufacturing_industries_and_construction_scope_1', 'manufacturing_industries_and_construction_scope_2', 'manufacturing_industries_and_construction_scope_3', 'energy_industries_scope_1', 'energy_industries_scope_2', 'energy_industries_scope_3', 'energy_generation_supplied_to_the_grid_scope_1', 'agriculture_forestry_and_fishing_activities_scope_1', 'agriculture_forestry_and_fishing_activities_scope_2', 'agriculture_forestry_and_fishing_activities_scope_3', 'non_specified_sources_scope_1', 'non_specified_sources_scope_2', 'non_specified_sources_scope_3', 'fugitive_emissions_from_mining_processing_storage_and_transportation_of_coal_scope_1', 'fugitive_emissions_from_oil_and_natural_gas_systems_scope_1', 'on_road_transportation_scope_1', 'on_road_transportation_scope_2', 'on_road_transportation_scope_3', 'railways_scope_1', 'railways_scope_2', 'railways_scope_3', 'waterborne_navigation_scope_1', 'waterborne_navigation_scope_2', 'waterborne_navigation_scope_3', 'aviation_scope_1', 'aviation_scope_2', 'aviation_scope_3', 'off_road_transportation_scope_1', 'off_road_transportation_scope_2', 'off_road_transportation_scope_3', 'solid_waste_generated_in_the_city_scope_1', 'solid_waste_generated_in_the_city_scope_2', 'solid_waste_generated_in_the_city_scope_3', 'biological_waste_generated_in_the_city_scope_1', 'biological_waste_generated_in_the_city_scope_2', 'biological_waste_generated_in_the_city_scope_3', 'incinerated_and_burned_waste_generated_in_the_city_scope_1', 'incinerated_and_burned_waste_generated_in_the_city_scope_2', 'incinerated_and_burned_waste_generated_in_the_city_scope_3', 'wastewater_generated_in_the_city_scope_1', 'wastewater_generated_in_the_city_scope_2', 'wastewater_generated_in_the_city_scope_3', 'emissions_from_industrial_processes_occurring_in_the_city_boundary_scope_1', 'emissions_from_product_use_occurring_within_the_city_boundary_scope_2', 'emissions_from_livestock_scope_3', 'emissions_from_land_scope_1', 'emissions_from_aggregate_sources_and_non_co2_emission_sources_on_land_scope_2', 'other_scope_3_scope_3', 'mrep1_and_mrep2_power_purchase_agreement_city_of_melbourne_scope_2', 'yarra_trams_power_purchase_agreement_victorian_state_government_scope_2']\n"
     ]
    }
   ],
   "source": [
    "print(emissions_df.columns.tolist())"
   ]
  },
  {
   "cell_type": "markdown",
   "metadata": {},
   "source": [
    "**Convert time-related & year-related columns to datetime**"
   ]
  },
  {
   "cell_type": "code",
   "execution_count": 49,
   "metadata": {},
   "outputs": [],
   "source": [
    "microclimate_sensors_data['local_time'] = pd.to_datetime(microclimate_sensors_data['local_time'], errors='coerce')\n",
    "emissions_df['calendar_year'] = emissions_df['year'].astype(int)\n",
    "emissions_df['date'] = pd.to_datetime(emissions_df['year'], format='%Y')\n"
   ]
  },
  {
   "cell_type": "markdown",
   "metadata": {},
   "source": [
    "**Check for missing values**"
   ]
  },
  {
   "cell_type": "code",
   "execution_count": 50,
   "metadata": {},
   "outputs": [
    {
     "name": "stdout",
     "output_type": "stream",
     "text": [
      "Total rows: 56\n",
      "\n",
      "Missing values:\n",
      " local_time       0\n",
      "id               0\n",
      "site_id          0\n",
      "sensor_id        0\n",
      "value            0\n",
      "type             0\n",
      "units            0\n",
      "gatewayhub_id    0\n",
      "site_status      0\n",
      "dtype: int64\n",
      "Total rows: 8\n",
      "\n",
      "Missing values:\n",
      " year                                                                       0\n",
      "population                                                                 0\n",
      "area_km2                                                                   0\n",
      "gdp_m                                                                      0\n",
      "residential_buildings_scope_1                                              0\n",
      "                                                                          ..\n",
      "other_scope_3_scope_3                                                      0\n",
      "mrep1_and_mrep2_power_purchase_agreement_city_of_melbourne_scope_2         0\n",
      "yarra_trams_power_purchase_agreement_victorian_state_government_scope_2    0\n",
      "calendar_year                                                              0\n",
      "date                                                                       0\n",
      "Length: 62, dtype: int64\n"
     ]
    }
   ],
   "source": [
    "print(f\"Total rows: {len(microclimate_sensors_data)}\")\n",
    "print(\"\\nMissing values:\\n\", microclimate_sensors_data.isnull().sum())\n",
    "\n",
    "print(f\"Total rows: {len(emissions_df)}\")\n",
    "print(\"\\nMissing values:\\n\", emissions_df.isnull().sum())\n",
    "\n"
   ]
  },
  {
   "cell_type": "markdown",
   "metadata": {},
   "source": [
    "**Sort the data by time**"
   ]
  },
  {
   "cell_type": "code",
   "execution_count": 51,
   "metadata": {},
   "outputs": [],
   "source": [
    "microclimate_sensors_data.sort_values(by='local_time', inplace=True)\n",
    "# Reset index after sorting\n",
    "microclimate_sensors_data.reset_index(drop=True, inplace=True)\n",
    "\n",
    "# Sort by datetime and reset index\n",
    "emissions_df.sort_values(by='date', inplace=True)\n",
    "emissions_df.reset_index(drop=True, inplace=True)\n"
   ]
  },
  {
   "cell_type": "markdown",
   "metadata": {},
   "source": [
    "**Extract time-based features** ( Extract year, month, day, hour)"
   ]
  },
  {
   "cell_type": "code",
   "execution_count": 52,
   "metadata": {},
   "outputs": [],
   "source": [
    "microclimate_sensors_data['year'] = microclimate_sensors_data['local_time'].dt.year\n",
    "microclimate_sensors_data['month'] = microclimate_sensors_data['local_time'].dt.month\n",
    "microclimate_sensors_data['day'] = microclimate_sensors_data['local_time'].dt.day\n",
    "microclimate_sensors_data['hour'] = microclimate_sensors_data['local_time'].dt.hour\n",
    "\n",
    "# Extract components from datetime\n",
    "emissions_df['year'] = emissions_df['date'].dt.year\n",
    "emissions_df['month'] = emissions_df['date'].dt.month\n",
    "emissions_df['day'] = emissions_df['date'].dt.day\n"
   ]
  },
  {
   "cell_type": "markdown",
   "metadata": {},
   "source": [
    "**Handle missing values**"
   ]
  },
  {
   "cell_type": "markdown",
   "metadata": {},
   "source": [
    "1. Check and Confirm Missing Values"
   ]
  },
  {
   "cell_type": "code",
   "execution_count": null,
   "metadata": {},
   "outputs": [],
   "source": []
  },
  {
   "cell_type": "code",
   "execution_count": null,
   "metadata": {},
   "outputs": [],
   "source": []
  },
  {
   "cell_type": "code",
   "execution_count": 53,
   "metadata": {},
   "outputs": [
    {
     "name": "stdout",
     "output_type": "stream",
     "text": [
      "Missing values before cleaning:\n",
      " local_time       0\n",
      "id               0\n",
      "site_id          0\n",
      "sensor_id        0\n",
      "value            0\n",
      "type             0\n",
      "units            0\n",
      "gatewayhub_id    0\n",
      "site_status      0\n",
      "year             0\n",
      "month            0\n",
      "day              0\n",
      "hour             0\n",
      "dtype: int64\n",
      "Missing values before handling:\n",
      " year                                                                       0\n",
      "population                                                                 0\n",
      "area_km2                                                                   0\n",
      "gdp_m                                                                      0\n",
      "residential_buildings_scope_1                                              0\n",
      "                                                                          ..\n",
      "yarra_trams_power_purchase_agreement_victorian_state_government_scope_2    0\n",
      "calendar_year                                                              0\n",
      "date                                                                       0\n",
      "month                                                                      0\n",
      "day                                                                        0\n",
      "Length: 64, dtype: int64\n"
     ]
    }
   ],
   "source": [
    "# Check missing values in microclimate data\n",
    "print(\"Missing values before cleaning:\\n\", microclimate_sensors_data.isnull().sum())\n",
    "\n",
    "# Check missing values in emissions data\n",
    "print(\"Missing values before handling:\\n\", emissions_df.isnull().sum())\n"
   ]
  },
  {
   "cell_type": "code",
   "execution_count": null,
   "metadata": {},
   "outputs": [],
   "source": []
  },
  {
   "cell_type": "markdown",
   "metadata": {},
   "source": [
    "2. Drop Rows with Critical Missing Values"
   ]
  },
  {
   "cell_type": "code",
   "execution_count": 54,
   "metadata": {},
   "outputs": [],
   "source": [
    "# For Microclimate Data\n",
    "microclimate_sensors_data.dropna(subset=['local_time', 'value', 'type'], inplace=True)\n",
    "\n",
    "# For Emissions Data: drop rows with missing values in scope-related emission columns\n",
    "emission_columns = [col for col in emissions_df.columns if 'scope' in col]\n",
    "emissions_df.dropna(subset=emission_columns, inplace=True)\n"
   ]
  },
  {
   "cell_type": "code",
   "execution_count": null,
   "metadata": {},
   "outputs": [],
   "source": []
  },
  {
   "cell_type": "markdown",
   "metadata": {},
   "source": [
    "3. Drop Unnecessary Columns"
   ]
  },
  {
   "cell_type": "code",
   "execution_count": 55,
   "metadata": {},
   "outputs": [],
   "source": [
    "# Drop less relevant or redundant columns from emissions_df\n",
    "columns_to_drop = ['area_km2', 'gdp_m', 'month', 'day']\n",
    "emissions_df.drop(columns=[col for col in columns_to_drop if col in emissions_df.columns], inplace=True)\n"
   ]
  },
  {
   "cell_type": "markdown",
   "metadata": {},
   "source": [
    "4. Handle Empty String Fields (Common in CSV imports)"
   ]
  },
  {
   "cell_type": "code",
   "execution_count": null,
   "metadata": {},
   "outputs": [],
   "source": []
  },
  {
   "cell_type": "code",
   "execution_count": null,
   "metadata": {},
   "outputs": [],
   "source": []
  },
  {
   "cell_type": "code",
   "execution_count": null,
   "metadata": {},
   "outputs": [],
   "source": []
  },
  {
   "cell_type": "code",
   "execution_count": null,
   "metadata": {},
   "outputs": [],
   "source": []
  },
  {
   "cell_type": "code",
   "execution_count": 56,
   "metadata": {},
   "outputs": [],
   "source": [
    "# Replace empty strings with NaNs for safe cleaning\n",
    "emissions_df.replace(r'^\\s*$', np.nan, regex=True, inplace=True)\n"
   ]
  },
  {
   "cell_type": "code",
   "execution_count": null,
   "metadata": {},
   "outputs": [],
   "source": []
  },
  {
   "cell_type": "code",
   "execution_count": null,
   "metadata": {},
   "outputs": [],
   "source": []
  },
  {
   "cell_type": "code",
   "execution_count": null,
   "metadata": {},
   "outputs": [],
   "source": []
  },
  {
   "cell_type": "markdown",
   "metadata": {},
   "source": [
    "5.Remove Outliers Using Z-Score Filtering"
   ]
  },
  {
   "cell_type": "code",
   "execution_count": 57,
   "metadata": {},
   "outputs": [],
   "source": [
    "from scipy.stats import zscore\n",
    "\n",
    "def remove_outliers(df, columns, threshold=3.5):\n",
    "    for col in columns:\n",
    "        df = df[(np.abs(zscore(df[col])) < threshold)]\n",
    "    return df\n",
    "\n",
    "# For emissions dataset\n",
    "columns_to_filter = ['temperature', 'humidity', 'pressure']  # Replace with actual available ones\n",
    "columns_to_filter = [col for col in columns_to_filter if col in emissions_df.columns]\n",
    "emissions_df = remove_outliers(emissions_df, columns_to_filter)\n"
   ]
  },
  {
   "cell_type": "markdown",
   "metadata": {},
   "source": [
    "6.Reset Index After Cleaning"
   ]
  },
  {
   "cell_type": "code",
   "execution_count": 58,
   "metadata": {},
   "outputs": [],
   "source": [
    "microclimate_sensors_data.reset_index(drop=True, inplace=True)\n",
    "emissions_df.reset_index(drop=True, inplace=True)\n"
   ]
  },
  {
   "cell_type": "markdown",
   "metadata": {},
   "source": [
    "7. Final Confirmation & Summary"
   ]
  },
  {
   "cell_type": "code",
   "execution_count": null,
   "metadata": {},
   "outputs": [],
   "source": []
  },
  {
   "cell_type": "code",
   "execution_count": 59,
   "metadata": {},
   "outputs": [
    {
     "name": "stdout",
     "output_type": "stream",
     "text": [
      "✅ Final microclimate dataset summary:\n",
      "<class 'pandas.core.frame.DataFrame'>\n",
      "RangeIndex: 56 entries, 0 to 55\n",
      "Data columns (total 13 columns):\n",
      " #   Column         Non-Null Count  Dtype              \n",
      "---  ------         --------------  -----              \n",
      " 0   local_time     56 non-null     datetime64[ns, UTC]\n",
      " 1   id             56 non-null     int64              \n",
      " 2   site_id        56 non-null     int64              \n",
      " 3   sensor_id      56 non-null     object             \n",
      " 4   value          56 non-null     float64            \n",
      " 5   type           56 non-null     object             \n",
      " 6   units          56 non-null     object             \n",
      " 7   gatewayhub_id  56 non-null     object             \n",
      " 8   site_status    56 non-null     object             \n",
      " 9   year           56 non-null     int32              \n",
      " 10  month          56 non-null     int32              \n",
      " 11  day            56 non-null     int32              \n",
      " 12  hour           56 non-null     int32              \n",
      "dtypes: datetime64[ns, UTC](1), float64(1), int32(4), int64(2), object(5)\n",
      "memory usage: 4.9+ KB\n",
      "\n",
      "✅ Final emissions dataset summary:\n",
      "<class 'pandas.core.frame.DataFrame'>\n",
      "RangeIndex: 8 entries, 0 to 7\n",
      "Data columns (total 60 columns):\n",
      " #   Column                                                                                Non-Null Count  Dtype         \n",
      "---  ------                                                                                --------------  -----         \n",
      " 0   year                                                                                  8 non-null      int32         \n",
      " 1   population                                                                            8 non-null      int64         \n",
      " 2   residential_buildings_scope_1                                                         8 non-null      int64         \n",
      " 3   residential_buildings_scope_2                                                         8 non-null      int64         \n",
      " 4   residential_buildings_scope_3                                                         8 non-null      int64         \n",
      " 5   commercial_and_institutional_buildings_and_facilities_scope_1                         8 non-null      int64         \n",
      " 6   commercial_and_institutional_buildings_and_facilities_scope_2                         8 non-null      int64         \n",
      " 7   commercial_and_institutional_buildings_and_facilities_scope_3                         8 non-null      int64         \n",
      " 8   manufacturing_industries_and_construction_scope_1                                     8 non-null      int64         \n",
      " 9   manufacturing_industries_and_construction_scope_2                                     8 non-null      int64         \n",
      " 10  manufacturing_industries_and_construction_scope_3                                     8 non-null      int64         \n",
      " 11  energy_industries_scope_1                                                             8 non-null      object        \n",
      " 12  energy_industries_scope_2                                                             8 non-null      object        \n",
      " 13  energy_industries_scope_3                                                             8 non-null      object        \n",
      " 14  energy_generation_supplied_to_the_grid_scope_1                                        8 non-null      object        \n",
      " 15  agriculture_forestry_and_fishing_activities_scope_1                                   8 non-null      object        \n",
      " 16  agriculture_forestry_and_fishing_activities_scope_2                                   8 non-null      object        \n",
      " 17  agriculture_forestry_and_fishing_activities_scope_3                                   8 non-null      object        \n",
      " 18  non_specified_sources_scope_1                                                         8 non-null      object        \n",
      " 19  non_specified_sources_scope_2                                                         8 non-null      object        \n",
      " 20  non_specified_sources_scope_3                                                         8 non-null      object        \n",
      " 21  fugitive_emissions_from_mining_processing_storage_and_transportation_of_coal_scope_1  8 non-null      object        \n",
      " 22  fugitive_emissions_from_oil_and_natural_gas_systems_scope_1                           8 non-null      int64         \n",
      " 23  on_road_transportation_scope_1                                                        8 non-null      int64         \n",
      " 24  on_road_transportation_scope_2                                                        8 non-null      object        \n",
      " 25  on_road_transportation_scope_3                                                        8 non-null      object        \n",
      " 26  railways_scope_1                                                                      8 non-null      object        \n",
      " 27  railways_scope_2                                                                      8 non-null      int64         \n",
      " 28  railways_scope_3                                                                      8 non-null      int64         \n",
      " 29  waterborne_navigation_scope_1                                                         8 non-null      object        \n",
      " 30  waterborne_navigation_scope_2                                                         8 non-null      object        \n",
      " 31  waterborne_navigation_scope_3                                                         8 non-null      object        \n",
      " 32  aviation_scope_1                                                                      8 non-null      object        \n",
      " 33  aviation_scope_2                                                                      8 non-null      object        \n",
      " 34  aviation_scope_3                                                                      8 non-null      object        \n",
      " 35  off_road_transportation_scope_1                                                       8 non-null      int64         \n",
      " 36  off_road_transportation_scope_2                                                       8 non-null      object        \n",
      " 37  off_road_transportation_scope_3                                                       8 non-null      object        \n",
      " 38  solid_waste_generated_in_the_city_scope_1                                             8 non-null      object        \n",
      " 39  solid_waste_generated_in_the_city_scope_2                                             8 non-null      int64         \n",
      " 40  solid_waste_generated_in_the_city_scope_3                                             8 non-null      object        \n",
      " 41  biological_waste_generated_in_the_city_scope_1                                        8 non-null      object        \n",
      " 42  biological_waste_generated_in_the_city_scope_2                                        8 non-null      object        \n",
      " 43  biological_waste_generated_in_the_city_scope_3                                        8 non-null      object        \n",
      " 44  incinerated_and_burned_waste_generated_in_the_city_scope_1                            8 non-null      object        \n",
      " 45  incinerated_and_burned_waste_generated_in_the_city_scope_2                            8 non-null      object        \n",
      " 46  incinerated_and_burned_waste_generated_in_the_city_scope_3                            8 non-null      object        \n",
      " 47  wastewater_generated_in_the_city_scope_1                                              8 non-null      bool          \n",
      " 48  wastewater_generated_in_the_city_scope_2                                              8 non-null      int64         \n",
      " 49  wastewater_generated_in_the_city_scope_3                                              8 non-null      bool          \n",
      " 50  emissions_from_industrial_processes_occurring_in_the_city_boundary_scope_1            8 non-null      object        \n",
      " 51  emissions_from_product_use_occurring_within_the_city_boundary_scope_2                 8 non-null      object        \n",
      " 52  emissions_from_livestock_scope_3                                                      8 non-null      object        \n",
      " 53  emissions_from_land_scope_1                                                           8 non-null      object        \n",
      " 54  emissions_from_aggregate_sources_and_non_co2_emission_sources_on_land_scope_2         8 non-null      object        \n",
      " 55  other_scope_3_scope_3                                                                 8 non-null      object        \n",
      " 56  mrep1_and_mrep2_power_purchase_agreement_city_of_melbourne_scope_2                    8 non-null      int64         \n",
      " 57  yarra_trams_power_purchase_agreement_victorian_state_government_scope_2               8 non-null      int64         \n",
      " 58  calendar_year                                                                         8 non-null      int64         \n",
      " 59  date                                                                                  8 non-null      datetime64[ns]\n",
      "dtypes: bool(2), datetime64[ns](1), int32(1), int64(20), object(36)\n",
      "memory usage: 3.7+ KB\n"
     ]
    }
   ],
   "source": [
    "# Show info\n",
    "print(\"✅ Final microclimate dataset summary:\")\n",
    "microclimate_sensors_data.info()\n",
    "\n",
    "print(\"\\n✅ Final emissions dataset summary:\")\n",
    "emissions_df.info()\n"
   ]
  },
  {
   "cell_type": "code",
   "execution_count": null,
   "metadata": {},
   "outputs": [],
   "source": []
  },
  {
   "cell_type": "code",
   "execution_count": null,
   "metadata": {},
   "outputs": [],
   "source": []
  },
  {
   "cell_type": "code",
   "execution_count": null,
   "metadata": {},
   "outputs": [],
   "source": []
  },
  {
   "cell_type": "code",
   "execution_count": null,
   "metadata": {},
   "outputs": [],
   "source": []
  },
  {
   "cell_type": "markdown",
   "metadata": {},
   "source": [
    "# Exploratory Data Analysis  #"
   ]
  },
  {
   "cell_type": "code",
   "execution_count": null,
   "metadata": {},
   "outputs": [],
   "source": []
  },
  {
   "cell_type": "markdown",
   "metadata": {},
   "source": [
    "**Summary Statistics**"
   ]
  },
  {
   "cell_type": "code",
   "execution_count": null,
   "metadata": {},
   "outputs": [],
   "source": [
    "print(\"microclimate_sensors_data:\")\n",
    "display(microclimate_sensors_data.describe())\n",
    "\n",
    "print(\"\\nEmissions Summary:\")\n",
    "display(emissions_df.describe())\n"
   ]
  },
  {
   "cell_type": "code",
   "execution_count": null,
   "metadata": {},
   "outputs": [],
   "source": []
  },
  {
   "cell_type": "code",
   "execution_count": null,
   "metadata": {},
   "outputs": [],
   "source": []
  },
  {
   "cell_type": "code",
   "execution_count": null,
   "metadata": {},
   "outputs": [],
   "source": []
  },
  {
   "cell_type": "code",
   "execution_count": null,
   "metadata": {},
   "outputs": [],
   "source": []
  },
  {
   "cell_type": "code",
   "execution_count": null,
   "metadata": {},
   "outputs": [],
   "source": []
  },
  {
   "cell_type": "markdown",
   "metadata": {},
   "source": [
    "**Correlation Check**"
   ]
  },
  {
   "cell_type": "code",
   "execution_count": null,
   "metadata": {},
   "outputs": [],
   "source": [
    "plt.figure(figsize=(16, 16))\n",
    "print(\"Correlation in Emissions:\")\n",
    "sns.heatmap(emissions_df.corr(numeric_only=True), annot=True, cmap=\"coolwarm\")\n",
    "plt.title(\"Emissions Dataset Correlation\")\n",
    "plt.show()\n",
    "\n",
    "print(\"Correlation in Microclimate:\")\n",
    "sns.heatmap(microclimate_sensors_data.corr(numeric_only=True), annot=True, cmap=\"viridis\")\n",
    "plt.title(\"Microclimate Dataset Correlation\")\n",
    "plt.show()\n"
   ]
  },
  {
   "cell_type": "markdown",
   "metadata": {},
   "source": [
    "Trend Visualizations"
   ]
  },
  {
   "cell_type": "code",
   "execution_count": null,
   "metadata": {},
   "outputs": [],
   "source": []
  },
  {
   "cell_type": "code",
   "execution_count": null,
   "metadata": {},
   "outputs": [],
   "source": []
  },
  {
   "cell_type": "code",
   "execution_count": null,
   "metadata": {},
   "outputs": [],
   "source": []
  },
  {
   "cell_type": "code",
   "execution_count": null,
   "metadata": {},
   "outputs": [],
   "source": []
  },
  {
   "cell_type": "code",
   "execution_count": null,
   "metadata": {},
   "outputs": [],
   "source": [
    "import pandas as pd\n",
    "import seaborn as sns\n",
    "import matplotlib.pyplot as plt\n",
    "\n",
    "# Optional: Set Seaborn style for better visuals\n",
    "sns.set(style=\"whitegrid\")\n"
   ]
  },
  {
   "cell_type": "code",
   "execution_count": null,
   "metadata": {},
   "outputs": [],
   "source": []
  },
  {
   "cell_type": "markdown",
   "metadata": {},
   "source": [
    "**Why These Sectors Were Selected:**\n",
    "\n",
    " 1. **Strong Correlation with Total Emissions / Year / Population**\n",
    "- From your heatmap, these sectors had **very high positive correlation coefficients (r > 0.9)** with key variables like:\n",
    "  - `year`\n",
    "  - `population`\n",
    "  - `calendar_year`\n",
    "- Example:\n",
    "  - `'solid_waste_generated_in_the_city_scope_2'` ↔ `year`: **0.96**\n",
    "  - `'wastewater_generated_in_the_city_scope_2'` ↔ `year`: **0.92**\n",
    "  - This means as time progresses, emissions from these sectors are **steadily increasing**, indicating a **clear trend**.\n",
    "\n",
    "\n",
    " 2. **Consistent and Reliable Data**\n",
    "- These columns **have minimal or no missing values** (as shown in your cleaned dataset summary).\n",
    "- This makes them reliable for **time series plotting without imputation**.\n",
    "- They are not outlier-heavy compared to some volatile sources like `aviation_scope_3` or `railways_scope_3`.\n",
    "\n",
    "\n",
    " Why Not Others?\n",
    "- Sectors like `'railways_scope_2'`, `'aviation_scope_3'`, `'non_specified_sources_scope_3'` showed:\n",
    "  - Low or inconsistent correlation.\n",
    "  - Irregular or sparse data points.\n",
    "  - High variability (not useful for trend insights).\n",
    "\n",
    "\n",
    "\n",
    " Summary:\n",
    "\"Selected these sectors because they are **statistically significant**, **data-complete**, and **highly relevant** to greenhouse gas trends in urban environments like Melbourne.\"\n",
    "\n",
    "\n"
   ]
  },
  {
   "cell_type": "code",
   "execution_count": null,
   "metadata": {},
   "outputs": [],
   "source": [
    "# Create a list of highly correlated emission sources (based on the heatmap)\n",
    "top_emission_columns = [\n",
    "    'solid_waste_generated_in_the_city_scope_2',\n",
    "    'wastewater_generated_in_the_city_scope_2',\n",
    "    'commercial_and_institutional_buildings_and_facilities_scope_1',\n",
    "    'residential_buildings_scope_1',\n",
    "    'fugitive_emissions_from_oil_and_natural_gas_systems_scope_1',\n",
    "]"
   ]
  },
  {
   "cell_type": "code",
   "execution_count": null,
   "metadata": {},
   "outputs": [],
   "source": [
    "\n",
    "# Line plot for each emission source over time\n",
    "plt.figure(figsize=(14, 8))\n",
    "for column in top_emission_columns:\n",
    "    sns.lineplot(data=emissions_df, x='year', y=column, label=column)\n",
    "\n",
    "plt.title('Emissions Trends of Top Correlated Sectors Over Time')\n",
    "plt.xlabel('Year')\n",
    "plt.ylabel('Emissions (tCO2-e)')\n",
    "plt.legend(loc='upper left', bbox_to_anchor=(1.05, 1), borderaxespad=0.)\n",
    "plt.tight_layout()\n",
    "plt.show()\n",
    "\n"
   ]
  },
  {
   "cell_type": "markdown",
   "metadata": {},
   "source": [
    "<table style=\"border-collapse: collapse; width: 100%; font-family: Arial, sans-serif;\">\n",
    "  <thead style=\"background-color: #e0e0e0;\">\n",
    "    <tr>\n",
    "      <th style=\"border: 1px solid #ccc; padding: 8px;\">Step</th>\n",
    "      <th style=\"border: 1px solid #ccc; padding: 8px;\">Description</th>\n",
    "    </tr>\n",
    "  </thead>\n",
    "  <tbody>\n",
    "    <tr>\n",
    "      <td style=\"border: 1px solid #ccc; padding: 8px;\">✅ Libraries</td>\n",
    "      <td style=\"border: 1px solid #ccc; padding: 8px;\">We use <code>matplotlib</code> and <code>seaborn</code> for plotting.</td>\n",
    "    </tr>\n",
    "    <tr>\n",
    "      <td style=\"border: 1px solid #ccc; padding: 8px;\">✅ Top Contributors</td>\n",
    "      <td style=\"border: 1px solid #ccc; padding: 8px;\">Selected based on strong correlations from the heatmap (e.g., solid waste, wastewater, commercial buildings).</td>\n",
    "    </tr>\n",
    "    <tr>\n",
    "      <td style=\"border: 1px solid #ccc; padding: 8px;\">✅ Line Plot</td>\n",
    "      <td style=\"border: 1px solid #ccc; padding: 8px;\">Shows how each emission source changes across years to identify <strong>trends and fluctuations</strong>.</td>\n",
    "    </tr>\n",
    "    <tr>\n",
    "      <td style=\"border: 1px solid #ccc; padding: 8px;\">✅ Seaborn Styling</td>\n",
    "      <td style=\"border: 1px solid #ccc; padding: 8px;\">Enhances readability with clear axes, legends, and grid lines.</td>\n",
    "    </tr>\n",
    "  </tbody>\n",
    "</table>\n"
   ]
  },
  {
   "cell_type": "code",
   "execution_count": null,
   "metadata": {},
   "outputs": [],
   "source": []
  },
  {
   "cell_type": "code",
   "execution_count": null,
   "metadata": {},
   "outputs": [],
   "source": []
  },
  {
   "cell_type": "code",
   "execution_count": null,
   "metadata": {},
   "outputs": [],
   "source": [
    "# Step 4: Merge datasets on 'year'\n",
    "merged_df = pd.merge(emissions_df, climate_yearly, on='year', how='inner')\n",
    "\n",
    "# Step 5: View merged dataset\n",
    "print(\"✅ Merged Dataset Columns:\\n\", merged_df.columns.tolist())\n",
    "print(\"✅ Merged Dataset Preview:\")\n",
    "merged_df.head()"
   ]
  },
  {
   "cell_type": "code",
   "execution_count": null,
   "metadata": {},
   "outputs": [],
   "source": []
  },
  {
   "cell_type": "code",
   "execution_count": null,
   "metadata": {},
   "outputs": [],
   "source": []
  },
  {
   "cell_type": "markdown",
   "metadata": {},
   "source": [
    "\n",
    "\n",
    " 3. **Real-World Relevance to Urban Emissions**\n",
    "These sectors are **key contributors** to urban greenhouse gas emissions, especially in a **municipality like Melbourne**:\n",
    "\n",
    "| Sector | Why It Matters |\n",
    "|--------|----------------|\n",
    "| **Solid Waste (Scope 2)** | Indicates waste treatment emissions, relevant for landfills and recycling. |\n",
    "| **Wastewater (Scope 2)** | Reflects city infrastructure and treatment plants – highly correlated with population growth. |\n",
    "| **Commercial Buildings (Scope 1)** | Reflects direct energy use in offices and institutions – critical in urban areas. |\n",
    "| **Residential Buildings (Scope 1)** | A growing sector tied directly to energy demand from households. |\n",
    "| **Fugitive Emissions (Gas Systems)** | Often overlooked, but a **significant contributor** from pipelines and infrastructure leaks. |\n",
    "\n",
    "\n",
    "\n",
    " 4. **Useful for Policy & Planning**\n",
    "- These sectors align with **common urban climate policy areas** like:\n",
    "  - Waste management reforms\n",
    "  - Building energy efficiency\n",
    "  - Infrastructure maintenance (e.g., gas leaks)\n",
    "\n",
    "\n"
   ]
  }
 ],
 "metadata": {
  "kernelspec": {
   "display_name": "Python 3 (ipykernel)",
   "language": "python",
   "name": "python3"
  },
  "language_info": {
   "codemirror_mode": {
    "name": "ipython",
    "version": 3
   },
   "file_extension": ".py",
   "mimetype": "text/x-python",
   "name": "python",
   "nbconvert_exporter": "python",
   "pygments_lexer": "ipython3",
   "version": "3.8.20"
  },
  "vscode": {
   "interpreter": {
    "hash": "369f2c481f4da34e4445cda3fffd2e751bd1c4d706f27375911949ba6bb62e1c"
   }
  }
 },
 "nbformat": 4,
 "nbformat_minor": 4
}
