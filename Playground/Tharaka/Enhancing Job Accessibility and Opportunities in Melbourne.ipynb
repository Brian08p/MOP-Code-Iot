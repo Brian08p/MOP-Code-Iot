{
 "cells": [
  {
   "cell_type": "markdown",
   "metadata": {},
   "source": [
    "<div class=\"usecase-title\">Enhancing Job Accessibility and Opportunities in Melbourne</div>\n",
    "<div class=\"usecase-authors\"><b>Authored by: </b> Tharaka Sandamal And Sahan Chamod</div>"
   ]
  },
  {
   "cell_type": "markdown",
   "metadata": {},
   "source": [
    "<div class=\"usecase-duration\"><b>Duration:</b> 90 mins</div>\n",
    "<div class=\"usecase-level-skill\">\n",
    "    <div class=\"usecase-level\"><b>Level: </b>Intermediate</div>\n",
    "    <div class=\"usecase-skill\"><b>Pre-requisite Skills: </b>Python, Data Analysis, Pandas, Data Visualization</div>\n"
   ]
  },
  {
   "cell_type": "markdown",
   "metadata": {},
   "source": [
    "<div class=\"usecase-section-header\">Scenario</div>\n",
    "\n",
    "Melbourne experiences disparities in job accessibility, affecting economic opportunities and social inclusion. Effective matching of job seekers with available employment relies heavily on the spatial distribution of jobs and accessibility via public transport. Current decision-making lacks comprehensive spatial insights, creating challenges for urban planners, policy-makers, and businesses aiming to improve employment access across various city regions.\n",
    " \n",
    "## Project Objective:\n",
    "\n",
    "To analyze and enhance job accessibility by examining spatial distribution patterns of jobs, public transport accessibility, and areas for potential employment growth in Melbourne.\n",
    " \n",
    "## Project Stages:\n",
    " \n",
    "### Stage 1: Data Collection & Integration\n",
    "\n",
    "- Acquire datasets from:\n",
    "\n",
    "  - Employment by Block by CLUE Industry (2002-2023)\n",
    "\n",
    "  - Metro Train Stations with Accessibility Information\n",
    "\n",
    "  - Bus Stops locations\n",
    "\n",
    "  - Floor Space by Use by Block (2002-2023)\n",
    "\n",
    "- Preprocess data to handle suppressed cells, confidentialized entries, missing values, and integrate data spatially for unified analysis.\n",
    " \n",
    "### Stage 2: Exploratory Data Analysis (EDA)\n",
    "\n",
    "- Analyze employment data by sector and block to determine high-density employment clusters.\n",
    "\n",
    "- Evaluate the public transport network (train and bus stations) to identify accessibility coverage.\n",
    "\n",
    "- Examine floor space usage to assess commercial and business concentration.\n",
    " \n",
    "### Stage 3: Spatial Accessibility Analysis\n",
    "\n",
    "- Develop geospatial models integrating employment density, train station accessibility, and bus stop coverage.\n",
    "\n",
    "- Identify regions with strong job availability but poor transport connectivity, highlighting accessibility gaps.\n",
    "\n",
    "- Pinpoint areas suitable for employment growth and potential infrastructure improvements.\n",
    " \n",
    "### Stage 4: Visualization and Dashboard Development\n",
    "\n",
    "- Create interactive maps and dashboards (using GIS tools or visualization software like Tableau or Power BI) to visualize employment hotspots, transport accessibility, and identified gaps.\n",
    "\n",
    "- Enable stakeholders such as urban planners, local authorities, and employment agencies to make informed decisions based on visual insights.\n",
    " \n",
    "### Stage 5: Recommendations and Strategic Planning\n",
    "\n",
    "- Provide strategic recommendations to policymakers for improving job accessibility through targeted infrastructure enhancements and optimized transport routes.\n",
    "\n",
    "- Suggest potential areas for new business development and skill-development programs aligned with spatial job distribution.\n",
    " \n",
    "## Expected Outcomes:\n",
    "\n",
    "- Improved understanding of spatial employment distribution and accessibility.\n",
    "\n",
    "- Enhanced connectivity between job seekers and employment opportunities.\n",
    "\n",
    "- Data-driven policy-making and urban planning for economic growth and increased social inclusion.\n",
    "\n",
    "- Identification of priority regions for infrastructure investment and skill-development programs.\n",
    " \n",
    "## Dataset Descriptions:\n",
    " \n",
    "### 1. Employment by Block by CLUE Industry (2002-2023)\n",
    "\n",
    "- Contains employment data showing job counts per city block, categorized by industry and small area allocation.\n",
    "\n",
    "- Valuable for analyzing spatial job density, sectoral employment patterns, and long-term trends.\n",
    " \n",
    "### 2. Metro Train Stations with Accessibility Information\n",
    "\n",
    "- Details the locations of metro train stations along with accessibility features.\n",
    "\n",
    "- Crucial for evaluating public transport coverage and accessibility to employment areas.\n",
    " \n",
    "### 3. Bus Stops\n",
    "\n",
    "- Provides geospatial locations of bus stops across Melbourne.\n",
    "\n",
    "- Important for assessing bus network coverage and accessibility gaps relative to employment opportunities.\n",
    " \n",
    "### 4. Floor Space by Use by Block (2002-2023)\n",
    "\n",
    "- Offers data on floor space usage categorized by type (commercial, office, retail, etc.) and city block.\n",
    "\n",
    "- Useful for determining business concentration, commercial capacity, and potential for employment growth.\n",
    " "
   ]
  },
  {
   "cell_type": "markdown",
   "metadata": {},
   "source": [
    "### Package/Library Imports"
   ]
  },
  {
   "cell_type": "code",
   "execution_count": 1,
   "metadata": {},
   "outputs": [
    {
     "name": "stdout",
     "output_type": "stream",
     "text": [
      "Requirement already satisfied: requests in c:\\users\\thara\\appdata\\local\\packages\\pythonsoftwarefoundation.python.3.11_qbz5n2kfra8p0\\localcache\\local-packages\\python311\\site-packages (2.32.3)\n",
      "Requirement already satisfied: charset-normalizer<4,>=2 in c:\\users\\thara\\appdata\\local\\packages\\pythonsoftwarefoundation.python.3.11_qbz5n2kfra8p0\\localcache\\local-packages\\python311\\site-packages (from requests) (3.3.2)\n",
      "Requirement already satisfied: idna<4,>=2.5 in c:\\users\\thara\\appdata\\local\\packages\\pythonsoftwarefoundation.python.3.11_qbz5n2kfra8p0\\localcache\\local-packages\\python311\\site-packages (from requests) (3.7)\n",
      "Requirement already satisfied: urllib3<3,>=1.21.1 in c:\\users\\thara\\appdata\\local\\packages\\pythonsoftwarefoundation.python.3.11_qbz5n2kfra8p0\\localcache\\local-packages\\python311\\site-packages (from requests) (2.2.2)\n",
      "Requirement already satisfied: certifi>=2017.4.17 in c:\\users\\thara\\appdata\\local\\packages\\pythonsoftwarefoundation.python.3.11_qbz5n2kfra8p0\\localcache\\local-packages\\python311\\site-packages (from requests) (2024.7.4)\n",
      "Note: you may need to restart the kernel to use updated packages.\n"
     ]
    },
    {
     "name": "stderr",
     "output_type": "stream",
     "text": [
      "\n",
      "[notice] A new release of pip is available: 24.0 -> 25.0.1\n",
      "[notice] To update, run: C:\\Users\\thara\\AppData\\Local\\Microsoft\\WindowsApps\\PythonSoftwareFoundation.Python.3.11_qbz5n2kfra8p0\\python.exe -m pip install --upgrade pip\n"
     ]
    }
   ],
   "source": [
    "pip install requests"
   ]
  },
  {
   "cell_type": "code",
   "execution_count": null,
   "metadata": {},
   "outputs": [],
   "source": [
    "from config import API_KEY # import API_KEY from config file\n",
    "\n",
    "import numpy as np\n",
    "import pandas as pd\n",
    "import matplotlib.pyplot as plt\n",
    "import requests \n",
    "import pandas as pd \n",
    "from io import StringIO"
   ]
  },
  {
   "cell_type": "markdown",
   "metadata": {},
   "source": [
    "### Read data using API"
   ]
  },
  {
   "cell_type": "code",
   "execution_count": null,
   "metadata": {},
   "outputs": [],
   "source": [
    "# **Preferred Method**: Export Endpoint\n",
    "\n",
    "#Function to collect data \n",
    "def collect_data(dataset_id):\n",
    "    base_url = 'https://data.melbourne.vic.gov.au/api/explore/v2.1/catalog/datasets/'\n",
    "    dataset_id = dataset_id\n",
    "    format = 'csv'\n",
    "\n",
    "    url = f'{base_url}{dataset_id}/exports/{format}'\n",
    "    params = {\n",
    "    'select': '*',\n",
    "    'limit': -1, # all records\n",
    "    'lang': 'en',\n",
    "    'timezone': 'UTC',\n",
    "    'api_key': API_KEY #use if use datasets require API key permissions\n",
    "    }\n",
    "\n",
    "    # GET request\n",
    "    response = requests.get(url, params=params)\n",
    "    if response.status_code == 200:\n",
    "        # StringIO to read the CSV data\n",
    "        url_content = response.content.decode('utf-8')\n",
    "        dataset = pd.read_csv(StringIO(url_content), delimiter=';')\n",
    "        return dataset \n",
    "    else:\n",
    "        print(f'Request failed with status code {response.status_code}')\n",
    "\n",
    "# Read data using the function\n",
    "cafe_df = collect_data('cafes-and-restaurants-with-seating-capacity')\n",
    "emp_block_df = collect_data('employment-by-block-by-clue-industry')\n",
    "block_df = collect_data('blocks-for-census-of-land-use-and-employment-clue')"
   ]
  }
 ],
 "metadata": {
  "kernelspec": {
   "display_name": "Python 3",
   "language": "python",
   "name": "python3"
  },
  "language_info": {
   "codemirror_mode": {
    "name": "ipython",
    "version": 3
   },
   "file_extension": ".py",
   "mimetype": "text/x-python",
   "name": "python",
   "nbconvert_exporter": "python",
   "pygments_lexer": "ipython3",
   "version": "3.11.9"
  }
 },
 "nbformat": 4,
 "nbformat_minor": 2
}
