{
 "cells": [
  {
   "cell_type": "markdown",
   "id": "d478f190-8e52-40a5-9078-8df6eb9a9cbb",
   "metadata": {},
   "source": [
    "**<u>Impact of Time, Weather and Traffic on Bike and car Usage</u>**\n",
    "\n",
    "**Authored by**: kushani Imanthi Ranasinghe\n",
    "<br><br>\n",
    "\n",
    "**Duration**: 90 min\n",
    "\n",
    "**Level**: intermediate\n",
    "\n",
    "**Pre-requisite Skills**: Python\n",
    "<br><br>\n",
    "\n",
    "Scenario\n",
    "\n",
    "\n",
    "What this use case will teach you\n",
    "\n",
    "At the end of tgis use case, you will:\n",
    "\n",
    "Datasets used"
   ]
  },
  {
   "cell_type": "code",
   "execution_count": null,
   "id": "c26ae6a7-0f81-4c46-924a-7fa155f50b23",
   "metadata": {},
   "outputs": [],
   "source": []
  }
 ],
 "metadata": {
  "kernelspec": {
   "display_name": "Python 3 (ipykernel)",
   "language": "python",
   "name": "python3"
  },
  "language_info": {
   "codemirror_mode": {
    "name": "ipython",
    "version": 3
   },
   "file_extension": ".py",
   "mimetype": "text/x-python",
   "name": "python",
   "nbconvert_exporter": "python",
   "pygments_lexer": "ipython3",
   "version": "3.12.7"
  }
 },
 "nbformat": 4,
 "nbformat_minor": 5
}
