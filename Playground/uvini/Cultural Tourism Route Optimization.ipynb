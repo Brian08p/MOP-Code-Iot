{
 "cells": [
  {
   "cell_type": "markdown",
   "id": "2fb655cd-0345-4626-8df2-edfbf9ed796b",
   "metadata": {},
   "source": [
    "<div style=\"background-color: #b8deff; padding: 10px; border-radius: 5px; font-family: Aptos; \">\n",
    "    <h1><b> Cultural Tourism Route Optimization </b></h1>\n",
    "\n",
    "\n",
    "<ul>\n",
    "    <li><b>Authored by:</b> Uvini Wijesinghe</li>\n",
    "    <li><b>Duration:</b> 10 Weeks</li>\n",
    "    <li><b>Level:</b> Intermediate</li>\n",
    "    <li><b>Pre-requisite Skills:</b> Python</li>\n",
    "</ul>\n",
    "\n",
    "</div>\n",
    "</div>"
   ]
  },
  {
   "cell_type": "markdown",
   "id": "bdb4cde8-0469-4842-afcc-14f16b80bccc",
   "metadata": {},
   "source": [
    "<div style=\"font-family: Aptos; font-size: 16px;\">\n",
    "Creating optimized cultural tourism routes in Melbourne involves integrating data from multiple sources, including public memorials, sculptures, artworks, fountains, monuments, and landmarks, along with key transport infrastructure such as City Circle tram stops and Melbourne Visitor Shuttle bus stops. By analyzing pedestrian movement patterns, the objective is to design routes that maximize visitor engagement by guiding them through high-interest cultural sites while ensuring accessibility and efficiency. <br>\n",
    "\n",
    "<br><b>User Story</b>\n",
    "\n",
    "<ul>\n",
    "    <li><b>Title:</b> Optimized Cultural Tourism Routes in Melbourne</li>\n",
    "    <li><b>As a:</b> Tourism Planner/City Developer </li>\n",
    "    <li><b>I want to:</b> Integrate data from cultural landmarks, transport infrastructure (City Circle tram stops and Melbourne Visitor Shuttle bus stops), and pedestrian movement patterns to create optimized cultural tourism routes.</li>\n",
    "    <li><b>So that:</b> Visitors can experience a diverse range of cultural sites efficiently, while being guided through high-traffic pedestrian zones and accessible transport hubs to maximize engagement with public artworks, fountains, and monuments.</li>\n",
    "</ul>\n",
    "\n",
    "<br><b>Acceptance Criteria:</b>\n",
    "1. All relevant public memorials, sculptures, artworks, fountains, monuments, and landmarks in Melbourne must be identified, mapped, and included in the dataset.\n",
    "2. Data for City Circle tram stops, Melbourne Visitor Shuttle bus stops, and pedestrian pathways must be included to ensure routes are accessible via public transport.\n",
    "3. High-footfall areas must be identified through pedestrian counting data to help determine the most popular areas and to adjust routes accordingly to optimize visitor engagement.\n",
    "4. Optimized routes should guide visitors through high-interest cultural sites while ensuring accessibility to transport hubs and high pedestrian traffic zones.\n",
    "5. Routes should cover the highest number of cultural landmarks while maintaining a smooth, logical flow for visitors.\n",
    "6. The system should provide suggestions for areas where new cultural landmarks, public artworks, or monuments could be developed to encourage visitor traffic in underutilized spaces.\n",
    "7. The final solution should have a user-friendly interface for tourists, displaying routes, landmarks, and transport stops in a clear and interactive map format.\n",
    "\n",
    "</div>"
   ]
  },
  {
   "cell_type": "code",
   "execution_count": 14,
   "id": "0e870061-d150-424b-88d0-24901da0a354",
   "metadata": {},
   "outputs": [],
   "source": [
    "import pandas as pd\n",
    "\n",
    "import matplotlib.pyplot as plt\n",
    "import seaborn as sns\n",
    "from wordcloud import WordCloud\n",
    "\n",
    "import folium\n",
    "from folium.plugins import MarkerCluster"
   ]
  },
  {
   "cell_type": "markdown",
   "id": "995981aa-87fa-4a7e-85fe-0d72b81b0611",
   "metadata": {},
   "source": [
    "<div style=\"background-color: #def0ff; padding: 10px; border-radius: 5px; font-family: Aptos; \">\n",
    "    <h3><b> 🚂 Train Routes </b></h3>\n",
    "</div>"
   ]
  },
  {
   "cell_type": "markdown",
   "id": "796e9e65-d23b-44d2-b039-2dca9155b1f1",
   "metadata": {
    "jp-MarkdownHeadingCollapsed": true
   },
   "source": [
    "#### Train Routes"
   ]
  },
  {
   "cell_type": "code",
   "execution_count": 18,
   "id": "7de41a59-7558-4839-bc19-e507cad9ed91",
   "metadata": {},
   "outputs": [
    {
     "data": {
      "text/html": [
       "<div>\n",
       "<style scoped>\n",
       "    .dataframe tbody tr th:only-of-type {\n",
       "        vertical-align: middle;\n",
       "    }\n",
       "\n",
       "    .dataframe tbody tr th {\n",
       "        vertical-align: top;\n",
       "    }\n",
       "\n",
       "    .dataframe thead th {\n",
       "        text-align: right;\n",
       "    }\n",
       "</style>\n",
       "<table border=\"1\" class=\"dataframe\">\n",
       "  <thead>\n",
       "    <tr style=\"text-align: right;\">\n",
       "      <th></th>\n",
       "      <th>train_id</th>\n",
       "      <th>route_short_name</th>\n",
       "      <th>route_long_name</th>\n",
       "    </tr>\n",
       "  </thead>\n",
       "  <tbody>\n",
       "    <tr>\n",
       "      <th>0</th>\n",
       "      <td>02-ALM</td>\n",
       "      <td>Alamein</td>\n",
       "      <td>Alamein - City</td>\n",
       "    </tr>\n",
       "    <tr>\n",
       "      <th>1</th>\n",
       "      <td>02-BEG</td>\n",
       "      <td>Belgrave</td>\n",
       "      <td>Belgrave - City</td>\n",
       "    </tr>\n",
       "    <tr>\n",
       "      <th>2</th>\n",
       "      <td>02-CBE</td>\n",
       "      <td>Cranbourne</td>\n",
       "      <td>Cranbourne - City</td>\n",
       "    </tr>\n",
       "    <tr>\n",
       "      <th>3</th>\n",
       "      <td>02-CCL</td>\n",
       "      <td>City Circle</td>\n",
       "      <td>NaN</td>\n",
       "    </tr>\n",
       "    <tr>\n",
       "      <th>4</th>\n",
       "      <td>02-CGB</td>\n",
       "      <td>Craigieburn</td>\n",
       "      <td>Craigieburn - City</td>\n",
       "    </tr>\n",
       "  </tbody>\n",
       "</table>\n",
       "</div>"
      ],
      "text/plain": [
       "  train_id route_short_name     route_long_name\n",
       "0   02-ALM          Alamein      Alamein - City\n",
       "1   02-BEG         Belgrave     Belgrave - City\n",
       "2   02-CBE       Cranbourne   Cranbourne - City\n",
       "3   02-CCL      City Circle                 NaN\n",
       "4   02-CGB      Craigieburn  Craigieburn - City"
      ]
     },
     "execution_count": 18,
     "metadata": {},
     "output_type": "execute_result"
    }
   ],
   "source": [
    "metro_train_routes = pd.read_csv(\"Datasets/gtfs/Metro Train/routes.txt\", delimiter=\",\") \n",
    "\n",
    "# Split based on 'aus:vic:vic-' and take the second part\n",
    "metro_train_routes['train_id'] = metro_train_routes['route_id'].str.extract(r'aus:vic:vic-(.*?):?$', expand=False)\n",
    "\n",
    "metro_train_routes = metro_train_routes[['train_id', 'route_short_name', 'route_long_name']]\n",
    "\n",
    "metro_train_routes = metro_train_routes.drop_duplicates()\n",
    "\n",
    "metro_train_routes.head()"
   ]
  },
  {
   "cell_type": "markdown",
   "id": "29728e0a-ccb5-43f1-a667-acc8b6863aba",
   "metadata": {
    "jp-MarkdownHeadingCollapsed": true
   },
   "source": [
    "#### Train Stops"
   ]
  },
  {
   "cell_type": "code",
   "execution_count": 21,
   "id": "f6ac1173-c282-4eb7-aed8-6526bd504d59",
   "metadata": {},
   "outputs": [
    {
     "data": {
      "text/html": [
       "<div>\n",
       "<style scoped>\n",
       "    .dataframe tbody tr th:only-of-type {\n",
       "        vertical-align: middle;\n",
       "    }\n",
       "\n",
       "    .dataframe tbody tr th {\n",
       "        vertical-align: top;\n",
       "    }\n",
       "\n",
       "    .dataframe thead th {\n",
       "        text-align: right;\n",
       "    }\n",
       "</style>\n",
       "<table border=\"1\" class=\"dataframe\">\n",
       "  <thead>\n",
       "    <tr style=\"text-align: right;\">\n",
       "      <th></th>\n",
       "      <th>stop_id</th>\n",
       "      <th>stop_name</th>\n",
       "      <th>stop_lat</th>\n",
       "      <th>stop_lon</th>\n",
       "    </tr>\n",
       "  </thead>\n",
       "  <tbody>\n",
       "    <tr>\n",
       "      <th>0</th>\n",
       "      <td>10117</td>\n",
       "      <td>Jordanville Station</td>\n",
       "      <td>-37.873763</td>\n",
       "      <td>145.112473</td>\n",
       "    </tr>\n",
       "    <tr>\n",
       "      <th>1</th>\n",
       "      <td>10920</td>\n",
       "      <td>Flagstaff Station</td>\n",
       "      <td>-37.811880</td>\n",
       "      <td>144.956043</td>\n",
       "    </tr>\n",
       "    <tr>\n",
       "      <th>2</th>\n",
       "      <td>10921</td>\n",
       "      <td>Flagstaff Station</td>\n",
       "      <td>-37.811725</td>\n",
       "      <td>144.955968</td>\n",
       "    </tr>\n",
       "    <tr>\n",
       "      <th>3</th>\n",
       "      <td>10922</td>\n",
       "      <td>Melbourne Central Station</td>\n",
       "      <td>-37.809974</td>\n",
       "      <td>144.962547</td>\n",
       "    </tr>\n",
       "    <tr>\n",
       "      <th>4</th>\n",
       "      <td>10923</td>\n",
       "      <td>Melbourne Central Station</td>\n",
       "      <td>-37.809865</td>\n",
       "      <td>144.962516</td>\n",
       "    </tr>\n",
       "  </tbody>\n",
       "</table>\n",
       "</div>"
      ],
      "text/plain": [
       "  stop_id                  stop_name   stop_lat    stop_lon\n",
       "0   10117        Jordanville Station -37.873763  145.112473\n",
       "1   10920          Flagstaff Station -37.811880  144.956043\n",
       "2   10921          Flagstaff Station -37.811725  144.955968\n",
       "3   10922  Melbourne Central Station -37.809974  144.962547\n",
       "4   10923  Melbourne Central Station -37.809865  144.962516"
      ]
     },
     "execution_count": 21,
     "metadata": {},
     "output_type": "execute_result"
    }
   ],
   "source": [
    "metro_train_stops = pd.read_csv(\"Datasets/gtfs/Metro Train/stops.txt\", delimiter=\",\")\n",
    "\n",
    "metro_train_stops = metro_train_stops[['stop_id', 'stop_name', 'stop_lat','stop_lon']]\n",
    "\n",
    "metro_train_stops = metro_train_stops.drop_duplicates()\n",
    "\n",
    "metro_train_stops['stop_id'] = metro_train_stops['stop_id'].astype(str).str.strip()\n",
    "\n",
    "metro_train_stops.head()"
   ]
  },
  {
   "cell_type": "markdown",
   "id": "95340ab1-13ad-4118-abf5-a1ee86897c64",
   "metadata": {
    "jp-MarkdownHeadingCollapsed": true
   },
   "source": [
    "#### Train Times"
   ]
  },
  {
   "cell_type": "markdown",
   "id": "23faf326-523d-4020-8c97-cf11cb202bdc",
   "metadata": {},
   "source": [
    "metro_train_times = pd.read_csv(\"Datasets/gtfs/Metro Train/stop_times.txt\", delimiter=\",\")\n",
    "\n",
    "metro_train_times['train_id'] = metro_train_times['trip_id'].str.extract(r'(^[^-]+-[^-]+)')\n",
    "\n",
    "metro_train_times = metro_train_times[['trip_id', 'train_id', 'stop_id', 'stop_sequence']]\n",
    "\n",
    "metro_train_times = metro_train_times.drop_duplicates()\n",
    "\n",
    "metro_train_times['stop_id'] = metro_train_times['stop_id'].astype(str).str.strip()\n",
    "\n",
    "metro_train_times.head()"
   ]
  },
  {
   "cell_type": "markdown",
   "id": "3dad121b-2d8d-46e6-9ada-a6b02330e166",
   "metadata": {
    "jp-MarkdownHeadingCollapsed": true
   },
   "source": [
    "#### Trip Ids with Highest Stop Count"
   ]
  },
  {
   "cell_type": "code",
   "execution_count": 26,
   "id": "b6a14680-2710-4ff5-81da-3466efec8dde",
   "metadata": {},
   "outputs": [
    {
     "data": {
      "text/html": [
       "<div>\n",
       "<style scoped>\n",
       "    .dataframe tbody tr th:only-of-type {\n",
       "        vertical-align: middle;\n",
       "    }\n",
       "\n",
       "    .dataframe tbody tr th {\n",
       "        vertical-align: top;\n",
       "    }\n",
       "\n",
       "    .dataframe thead th {\n",
       "        text-align: right;\n",
       "    }\n",
       "</style>\n",
       "<table border=\"1\" class=\"dataframe\">\n",
       "  <thead>\n",
       "    <tr style=\"text-align: right;\">\n",
       "      <th></th>\n",
       "      <th>trip_id</th>\n",
       "      <th>train_id</th>\n",
       "      <th>stop_id</th>\n",
       "      <th>stop_sequence</th>\n",
       "    </tr>\n",
       "  </thead>\n",
       "  <tbody>\n",
       "    <tr>\n",
       "      <th>2539</th>\n",
       "      <td>02-ALM--16-T5-2801</td>\n",
       "      <td>02-ALM</td>\n",
       "      <td>11213</td>\n",
       "      <td>1</td>\n",
       "    </tr>\n",
       "    <tr>\n",
       "      <th>2540</th>\n",
       "      <td>02-ALM--16-T5-2801</td>\n",
       "      <td>02-ALM</td>\n",
       "      <td>22189</td>\n",
       "      <td>2</td>\n",
       "    </tr>\n",
       "    <tr>\n",
       "      <th>2541</th>\n",
       "      <td>02-ALM--16-T5-2801</td>\n",
       "      <td>02-ALM</td>\n",
       "      <td>12196</td>\n",
       "      <td>3</td>\n",
       "    </tr>\n",
       "    <tr>\n",
       "      <th>2542</th>\n",
       "      <td>02-ALM--16-T5-2801</td>\n",
       "      <td>02-ALM</td>\n",
       "      <td>12198</td>\n",
       "      <td>4</td>\n",
       "    </tr>\n",
       "    <tr>\n",
       "      <th>2543</th>\n",
       "      <td>02-ALM--16-T5-2801</td>\n",
       "      <td>02-ALM</td>\n",
       "      <td>12200</td>\n",
       "      <td>5</td>\n",
       "    </tr>\n",
       "  </tbody>\n",
       "</table>\n",
       "</div>"
      ],
      "text/plain": [
       "                 trip_id train_id stop_id  stop_sequence\n",
       "2539  02-ALM--16-T5-2801   02-ALM   11213              1\n",
       "2540  02-ALM--16-T5-2801   02-ALM   22189              2\n",
       "2541  02-ALM--16-T5-2801   02-ALM   12196              3\n",
       "2542  02-ALM--16-T5-2801   02-ALM   12198              4\n",
       "2543  02-ALM--16-T5-2801   02-ALM   12200              5"
      ]
     },
     "execution_count": 26,
     "metadata": {},
     "output_type": "execute_result"
    }
   ],
   "source": [
    "# Find the highest stop_sequence for each train_id\n",
    "highest_seq_per_train = metro_train_times.loc[\n",
    "    metro_train_times.groupby('train_id')['stop_sequence'].idxmax(),\n",
    "    ['train_id', 'trip_id', 'stop_sequence']\n",
    "].rename(columns={'stop_sequence': 'max_sequence'})\n",
    "\n",
    "# Get unique trip_ids\n",
    "unique_trip_ids = highest_seq_per_train['trip_id'].unique()\n",
    "\n",
    "# Filter metro_train_times for those trip_ids\n",
    "filtered_metro_train_times = metro_train_times[metro_train_times['trip_id'].isin(unique_trip_ids)]\n",
    "filtered_metro_train_times.head(5)"
   ]
  },
  {
   "cell_type": "markdown",
   "id": "2d6bbd7e-c222-4501-a94f-68f9bdee06bb",
   "metadata": {
    "jp-MarkdownHeadingCollapsed": true
   },
   "source": [
    "#### Final Train Stops and Routes Dataset"
   ]
  },
  {
   "cell_type": "code",
   "execution_count": 30,
   "id": "90d0d20e-7632-4736-a466-a7e6b50e498e",
   "metadata": {},
   "outputs": [
    {
     "name": "stderr",
     "output_type": "stream",
     "text": [
      "C:\\Users\\uvini\\AppData\\Local\\Temp\\ipykernel_22680\\794004814.py:2: SettingWithCopyWarning: \n",
      "A value is trying to be set on a copy of a slice from a DataFrame.\n",
      "Try using .loc[row_indexer,col_indexer] = value instead\n",
      "\n",
      "See the caveats in the documentation: https://pandas.pydata.org/pandas-docs/stable/user_guide/indexing.html#returning-a-view-versus-a-copy\n",
      "  filtered_metro_train_times['stop_id'] = filtered_metro_train_times['stop_id'].astype(str).str.strip()\n"
     ]
    },
    {
     "data": {
      "text/html": [
       "<div>\n",
       "<style scoped>\n",
       "    .dataframe tbody tr th:only-of-type {\n",
       "        vertical-align: middle;\n",
       "    }\n",
       "\n",
       "    .dataframe tbody tr th {\n",
       "        vertical-align: top;\n",
       "    }\n",
       "\n",
       "    .dataframe thead th {\n",
       "        text-align: right;\n",
       "    }\n",
       "</style>\n",
       "<table border=\"1\" class=\"dataframe\">\n",
       "  <thead>\n",
       "    <tr style=\"text-align: right;\">\n",
       "      <th></th>\n",
       "      <th>trip_id</th>\n",
       "      <th>train_id</th>\n",
       "      <th>stop_id</th>\n",
       "      <th>stop_sequence</th>\n",
       "      <th>stop_name</th>\n",
       "      <th>stop_lat</th>\n",
       "      <th>stop_lon</th>\n",
       "    </tr>\n",
       "  </thead>\n",
       "  <tbody>\n",
       "    <tr>\n",
       "      <th>0</th>\n",
       "      <td>02-ALM--16-T5-2801</td>\n",
       "      <td>02-ALM</td>\n",
       "      <td>11213</td>\n",
       "      <td>1</td>\n",
       "      <td>Flinders Street Station</td>\n",
       "      <td>-37.818307</td>\n",
       "      <td>144.966010</td>\n",
       "    </tr>\n",
       "    <tr>\n",
       "      <th>1</th>\n",
       "      <td>02-ALM--16-T5-2801</td>\n",
       "      <td>02-ALM</td>\n",
       "      <td>22189</td>\n",
       "      <td>2</td>\n",
       "      <td>Southern Cross Station</td>\n",
       "      <td>-37.818535</td>\n",
       "      <td>144.952144</td>\n",
       "    </tr>\n",
       "  </tbody>\n",
       "</table>\n",
       "</div>"
      ],
      "text/plain": [
       "              trip_id train_id stop_id  stop_sequence  \\\n",
       "0  02-ALM--16-T5-2801   02-ALM   11213              1   \n",
       "1  02-ALM--16-T5-2801   02-ALM   22189              2   \n",
       "\n",
       "                 stop_name   stop_lat    stop_lon  \n",
       "0  Flinders Street Station -37.818307  144.966010  \n",
       "1   Southern Cross Station -37.818535  144.952144  "
      ]
     },
     "execution_count": 30,
     "metadata": {},
     "output_type": "execute_result"
    }
   ],
   "source": [
    "# Trim spaces and convert stop_id to string for consistency\n",
    "filtered_metro_train_times['stop_id'] = filtered_metro_train_times['stop_id'].astype(str).str.strip()\n",
    "metro_train_stops['stop_id'] = metro_train_stops['stop_id'].astype(str).str.strip()\n",
    "\n",
    "result = filtered_metro_train_times.merge(metro_train_stops, on='stop_id', how='left')\n",
    "result.head(2)"
   ]
  },
  {
   "cell_type": "markdown",
   "id": "fa2aa250-63f8-4927-b576-ecbe421617a9",
   "metadata": {},
   "source": [
    "<div style=\"background-color: #def0ff; padding: 10px; border-radius: 5px; font-family: Aptos; \">\n",
    "    <h3><b> 🚶🏻‍♂️Pedestrians </b></h3>\n",
    "</div>"
   ]
  },
  {
   "cell_type": "markdown",
   "id": "4f0db011-e2f3-4d34-bd1c-de6ccf18790d",
   "metadata": {
    "jp-MarkdownHeadingCollapsed": true
   },
   "source": [
    "#### Import and Clean Pedestrians dataset"
   ]
  },
  {
   "cell_type": "code",
   "execution_count": null,
   "id": "65cb1d91-34c9-407a-b4b4-8d36b37b3d1f",
   "metadata": {},
   "outputs": [],
   "source": [
    "ped_counts = pd.read_csv(\"Datasets/pedestrian-counting-system-monthly-counts-per-hour.csv\")\n",
    "ped_counts.head(2)"
   ]
  },
  {
   "cell_type": "code",
   "execution_count": null,
   "id": "6750ef00-b54e-4d0b-8874-80232dcbadbf",
   "metadata": {},
   "outputs": [],
   "source": [
    "# Split 'Location' column into separate latitude and longitude\n",
    "ped_counts[['Latitude', 'Longitude']] = ped_counts['Location'].str.split(',', expand=True)\n",
    "\n",
    "# Select required columns for the new DataFrame\n",
    "date_counts = ped_counts[['Location_ID', 'Sensing_Date', 'Total_of_Directions', 'Sensor_Name', 'Latitude', 'Longitude']]\n",
    "\n",
    "# Convert 'Latitude' and 'Longitude' to float\n",
    "date_counts['Latitude'] = date_counts['Latitude'].astype(float)\n",
    "date_counts['Longitude'] = date_counts['Longitude'].astype(float)\n",
    "\n",
    "# Display the new DataFrame\n",
    "date_counts.head(5)"
   ]
  },
  {
   "cell_type": "code",
   "execution_count": null,
   "id": "4ba520b2-2f55-4b5e-80e2-112c10c57b1c",
   "metadata": {},
   "outputs": [],
   "source": [
    "# Group by 'Sensor_Name' and sum 'Total_of_Directions'\n",
    "sensor_count = date_counts.groupby(['Location_ID', 'Sensor_Name', 'Latitude', 'Longitude'], as_index=False)['Total_of_Directions'].sum()\n",
    "\n",
    "# Display the result\n",
    "sensor_count.head()"
   ]
  },
  {
   "cell_type": "markdown",
   "id": "a5bffea2-ad59-4ba6-8099-61d0a865de23",
   "metadata": {
    "jp-MarkdownHeadingCollapsed": true
   },
   "source": [
    "#### Exploratory Data Analysis For Pedestrian Data"
   ]
  },
  {
   "cell_type": "code",
   "execution_count": null,
   "id": "f9ac6ac0-db51-400a-bda4-e57a44684ee0",
   "metadata": {},
   "outputs": [],
   "source": [
    "\n",
    "# Create a base map centered on the average coordinates (Melbourne)\n",
    "m = folium.Map(location=[sensor_count['Latitude'].mean(), sensor_count['Longitude'].mean()], zoom_start=15)\n",
    "\n",
    "# Initialize MarkerCluster for better performance when there are many markers\n",
    "marker_cluster = MarkerCluster().add_to(m)\n",
    "\n",
    "# Add bubble markers with size based on the count\n",
    "for _, row in sensor_count.iterrows():\n",
    "    # Set the bubble size directly based on the count\n",
    "    bubble_size = row['Total_of_Directions'] / 500000 # Divide by 1 million for readability\n",
    "    \n",
    "    folium.CircleMarker(\n",
    "        location=[row['Latitude'], row['Longitude']],\n",
    "        radius=bubble_size,  # Size based directly on count\n",
    "        color=\"blue\",  # Color can be dynamic based on intensity\n",
    "        fill=True,\n",
    "        fill_opacity=0.6,\n",
    "        fill_color=\"blue\",  # You can adjust this to a gradient for more color intensity\n",
    "        popup=f\"<b>Sensor Name:</b> {row['Sensor_Name']}<br><b>Total of Directions:</b> {row['Total_of_Directions']}\"\n",
    "    ).add_to(marker_cluster)\n",
    "\n",
    "# Display the map\n",
    "m"
   ]
  },
  {
   "cell_type": "markdown",
   "id": "d3a46d32-2650-4413-96bf-5170780574e1",
   "metadata": {},
   "source": [
    "<div style=\"background-color: #def0ff; padding: 10px; border-radius: 5px; font-family: Aptos; \">\n",
    "    <h3><b> 🧑🏻‍🎨 Public Artworks, Fountains and Monuments </b></h3>\n",
    "</div>"
   ]
  },
  {
   "cell_type": "markdown",
   "id": "58e81679-6448-4e3d-b3b9-1bf233ba2c79",
   "metadata": {
    "jp-MarkdownHeadingCollapsed": true
   },
   "source": [
    "#### Import Artworks, Fountains and Monuments dataset"
   ]
  },
  {
   "cell_type": "code",
   "execution_count": null,
   "id": "5c6ee720-4127-46be-9da6-2db7ba8559e1",
   "metadata": {},
   "outputs": [],
   "source": [
    "places = pd.read_csv(\"Datasets/public-artworks-fountains-and-monuments.csv\")\n",
    "places.head(2)"
   ]
  },
  {
   "cell_type": "markdown",
   "id": "0415adbe-2246-48b1-ba90-bc0113893d64",
   "metadata": {},
   "source": [
    "#### Exploratory Data Analysis For Artworks, Fountains and Monuments"
   ]
  },
  {
   "cell_type": "markdown",
   "id": "0e2f3532-454f-4bb9-bd31-232c66fb6717",
   "metadata": {
    "jp-MarkdownHeadingCollapsed": true
   },
   "source": [
    "##### Pie Chart: Different Types of Assests"
   ]
  },
  {
   "cell_type": "code",
   "execution_count": null,
   "id": "bf8bfe8a-0827-4059-8f15-e132be9fa7a8",
   "metadata": {},
   "outputs": [],
   "source": [
    "# Count frequency of each Asset Type\n",
    "asset_counts = places['Asset Type'].value_counts()\n",
    "\n",
    "# Plot pie chart\n",
    "plt.figure(figsize=(8, 8))\n",
    "plt.pie(asset_counts, labels=asset_counts.index, autopct='%1.1f%%', startangle=140, colors=plt.cm.Paired.colors)\n",
    "plt.title('Distribution of Asset Types')\n",
    "plt.axis('equal')  # Equal aspect ratio ensures the pie chart is circular.\n",
    "plt.show()"
   ]
  },
  {
   "cell_type": "markdown",
   "id": "26679213-2c6c-45cf-84ba-43e4d4950084",
   "metadata": {
    "jp-MarkdownHeadingCollapsed": true
   },
   "source": [
    "##### Bar Chart: Amount of Artworks Maneged by Different Organizations"
   ]
  },
  {
   "cell_type": "code",
   "execution_count": null,
   "id": "736a7b6d-7839-4264-8baa-d72cf46ee1e4",
   "metadata": {},
   "outputs": [],
   "source": [
    "# Count frequency of each Xorg\n",
    "xorg_counts = places['Xorg'].value_counts()\n",
    "\n",
    "# Plot bar chart\n",
    "plt.figure(figsize=(10, 6))\n",
    "xorg_counts.plot(kind='bar', color='skyblue', edgecolor='black')\n",
    "\n",
    "plt.title('Number of Artworks by Xorg')\n",
    "plt.xlabel('Xorg')\n",
    "plt.ylabel('Number of Artworks')\n",
    "plt.xticks(rotation=45, ha='right')\n",
    "plt.tight_layout()\n",
    "plt.grid(axis='y', linestyle='--', alpha=0.7)\n",
    "plt.show()"
   ]
  },
  {
   "cell_type": "markdown",
   "id": "ec414e73-51f5-43f3-8a39-e628199db19d",
   "metadata": {
    "jp-MarkdownHeadingCollapsed": true
   },
   "source": [
    "##### Word Cloud: Most Common Artists"
   ]
  },
  {
   "cell_type": "code",
   "execution_count": null,
   "id": "3c5cce6d-2d44-4129-809d-3c24865925b1",
   "metadata": {},
   "outputs": [],
   "source": [
    "\n",
    "# Drop NaN values from 'Artist' column\n",
    "artists = places['Artist'].dropna()\n",
    "\n",
    "# Combine all artist names into a single string\n",
    "artist_text = \" \".join(artists)\n",
    "\n",
    "# Generate the word cloud\n",
    "wordcloud = WordCloud(width=800, height=400, background_color='white', colormap='viridis').generate(artist_text)\n",
    "\n",
    "# Plot the word cloud\n",
    "plt.figure(figsize=(10, 5))\n",
    "plt.imshow(wordcloud, interpolation='bilinear')\n",
    "plt.axis('off')\n",
    "plt.title('Word Cloud of Artists')\n",
    "plt.tight_layout()\n",
    "plt.show()"
   ]
  },
  {
   "cell_type": "markdown",
   "id": "cb35a37d-5da6-445e-a156-eb8ec3e7485a",
   "metadata": {
    "jp-MarkdownHeadingCollapsed": true
   },
   "source": [
    "##### Map: Map Visualization of each Artworks, Fountains and Monuments"
   ]
  },
  {
   "cell_type": "code",
   "execution_count": null,
   "id": "676e1dd1-087d-4eb2-87fd-c2271ff87883",
   "metadata": {},
   "outputs": [],
   "source": [
    "\n",
    "# Convert 'Co-ordinates' column to separate latitude and longitude\n",
    "places[['Latitude', 'Longitude']] = places['Co-ordinates'].str.split(',', expand=True)\n",
    "places['Latitude'] = places['Latitude'].astype(float)\n",
    "places['Longitude'] = places['Longitude'].astype(float)\n",
    "\n",
    "# Define color mapping for different Asset Types\n",
    "asset_colors = {\n",
    "    \"Art\": \"blue\",\n",
    "    \"Monument\": \"green\",\n",
    "    \"Sculpture\": \"purple\",\n",
    "    \"Panel\": \"orange\"\n",
    "}\n",
    "\n",
    "# Create a base map centered on Melbourne\n",
    "m = folium.Map(location=[-37.81, 144.96], zoom_start=13)\n",
    "\n",
    "# Add markers with detailed tooltip\n",
    "for _, row in places.iterrows():\n",
    "    asset_type = row['Asset Type']\n",
    "    color = asset_colors.get(asset_type, \"gray\")  # Default color if type is missing\n",
    "\n",
    "    # Construct the tooltip with bold labels\n",
    "    tooltip = f\"\"\"\n",
    "    <b>Asset Type:</b> {row['Asset Type']}<br>\n",
    "    <b>Name:</b> {row['Name']}<br>\n",
    "    <b>Organization:</b> {row['Xorg']}<br>\n",
    "    <b>Artist:</b> {row['Artist']}<br>\n",
    "    <b>Year:</b> {row['Art Date']}\n",
    "    \"\"\"\n",
    "\n",
    "    folium.Marker(\n",
    "        location=[row['Latitude'], row['Longitude']],\n",
    "        popup=row['Name'],\n",
    "        tooltip=tooltip,\n",
    "        icon=folium.Icon(color=color)\n",
    "    ).add_to(m)\n",
    "\n",
    "# Display the map\n",
    "m\n"
   ]
  },
  {
   "cell_type": "code",
   "execution_count": null,
   "id": "9080c17b-e3bc-4c7f-a414-629895771e8e",
   "metadata": {},
   "outputs": [],
   "source": []
  },
  {
   "cell_type": "code",
   "execution_count": null,
   "id": "20e5c7cf-9012-4176-a754-4d1b8953f4bd",
   "metadata": {},
   "outputs": [],
   "source": []
  },
  {
   "cell_type": "code",
   "execution_count": null,
   "id": "11fbea85-b6a9-46ce-99e9-1dfa812d1c20",
   "metadata": {},
   "outputs": [],
   "source": []
  },
  {
   "cell_type": "code",
   "execution_count": null,
   "id": "ef4b0114-8a8c-4ed4-b947-73faf4eadf5c",
   "metadata": {},
   "outputs": [],
   "source": []
  },
  {
   "cell_type": "code",
   "execution_count": null,
   "id": "8e900658-f3e5-4478-b909-bdef36f4c774",
   "metadata": {},
   "outputs": [],
   "source": []
  },
  {
   "cell_type": "code",
   "execution_count": null,
   "id": "172cae85-bcf0-466c-9869-da1854f71491",
   "metadata": {},
   "outputs": [],
   "source": []
  },
  {
   "cell_type": "code",
   "execution_count": null,
   "id": "a5eddfa9-2c91-4340-9548-7b2d3bd3a351",
   "metadata": {},
   "outputs": [],
   "source": []
  },
  {
   "cell_type": "code",
   "execution_count": null,
   "id": "0679a1e8-427c-4176-b562-e4769ebedd48",
   "metadata": {},
   "outputs": [],
   "source": []
  },
  {
   "cell_type": "code",
   "execution_count": null,
   "id": "ad7abf6e-e78b-4fe6-bdec-4e5969e975ce",
   "metadata": {},
   "outputs": [],
   "source": []
  }
 ],
 "metadata": {
  "kernelspec": {
   "display_name": "Python 3 (ipykernel)",
   "language": "python",
   "name": "python3"
  },
  "language_info": {
   "codemirror_mode": {
    "name": "ipython",
    "version": 3
   },
   "file_extension": ".py",
   "mimetype": "text/x-python",
   "name": "python",
   "nbconvert_exporter": "python",
   "pygments_lexer": "ipython3",
   "version": "3.12.4"
  }
 },
 "nbformat": 4,
 "nbformat_minor": 5
}
