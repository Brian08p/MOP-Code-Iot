{
 "cells": [
  {
   "cell_type": "markdown",
   "metadata": {},
   "source": [
    "<div class=\"usecase-title\"><h3>Predicting Future Patron Capacity of Bars and Pubs in Melbourne</h3></div>\n",
    "\n",
    "<div class=\"usecase-authors\"><b>Authored by: </b> Venuka Hirushan Wijenayake</div>\n",
    "\n",
    "<div class=\"usecase-authors\"><b>Date: </b> T2 2024 (July - September)</div>"
   ]
  },
  {
   "cell_type": "markdown",
   "metadata": {},
   "source": [
    "<div class=\"usecase-duration\"><b>Duration:</b> 270 mins</div>\n",
    "\n",
    "<div class=\"usecase-level-skill\">\n",
    "    <div class=\"usecase-level\"><b>Level: </b>Intermediate</div>\n",
    "    <div class=\"usecase-skill\"><b>Pre-requisite Skills: </b>Python, Machine Learning</div>\n",
    "</div>"
   ]
  },
  {
   "cell_type": "markdown",
   "metadata": {},
   "source": [
    "### Use Case Scenario\n",
    "\n",
    "**Title: Analyzing Historical and Current Tree Diversity in Melbourne**\n",
    "\n",
    "**As a** member of the local city council's urban planning department,\n",
    "\n",
    "**I want to** conduct a comprehensive analysis of the diversity of tree species within the Melbourne area, comparing the current variety and density of tree species to historical data from pre-colonial times,\n",
    "\n",
    "**So that I can** identify significant changes and trends in tree diversity over time, specifically pinpointing species that have become less common or are on the verge of disappearing from the local ecosystem.\n",
    "\n",
    "**This will help** in making informed decisions about which species to prioritize in future tree planting programs, aiming to restore ecological balance, enhance urban biodiversity, and support sustainable urban development.\n",
    "\n",
    "**By** utilizing interactive mapping tools and temporal data visualization techniques, I hope to present this data in a clear and actionable manner to stakeholders and the public, ensuring the planning and execution of greening initiatives are well-supported by historical trends and current needs."
   ]
  },
  {
   "cell_type": "markdown",
   "metadata": {},
   "source": [
    "<div class=\"usecase-section-header\"><h3>Project Goal: Title: Optimizing Bar and Pub Operations through Foot Traffic Analysis in Melbourne</h3></div>"
   ]
  },
  {
   "cell_type": "markdown",
   "metadata": {},
   "source": [
    "<p>Conduct an in-depth analysis of the relationship between pedestrian foot traffic and the patron capacity of bars and pubs in Melbourne. This study aims to develop predictive models that estimate potential patron capacity based on foot traffic patterns. The ultimate goal is to provide evidence-based recommendations to bar and pub owners for optimizing operations, including location selection, staffing, inventory management, and marketing strategies. Additionally, the project will offer insights to urban planners to enhance the nightlife ecosystem in Melbourne, contributing to a more vibrant and economically thriving city.</p>\r\n",
    "\r\n",
    "<h4>Key Activities</h4>\r\n",
    "<ul>\r\n",
    "  <li>Data Integration: Combine data from the \"Bars, Taverns, and Pub Patron Capacity\" dataset with the \"Pedestrian Counting System - Sensor Locations\" dataset to create a comprehensive dataset for analysis.</li>\r\n",
    "  <li>Data Preprocessing: Clean and preprocess the combined dataset to ensure accuracy and relevance for analysis.</li>\r\n",
    "  <li>Exploratory Data Analysis: Perform exploratory data analysis to understand the relationships and patterns within the data.</li>\r\n",
    "  <li>Predictive Modeling: Develop and validate predictive models to estimate patron capacity based on foot traffic patterns.</li>\r\n",
    "  <li>Visualization and Reporting: Create visualizations and reports to present key findings and recommendations to stakeholders.</li>\r\n",
    "</ul>\r\n",
    "\r\n",
    "<h4>Expected Outcome</h4>\r\n",
    "<p>A comprehensive report detailing the relationship between pedestrian foot traffic and the patron capacity of bars and pubs in Melbourne, with actionable recommendations for optimizing bar and pub operations. The report will also provide insights for urban planners to enhance Melbourne's nightlife ecosystem.</p>\r\n",
    "\r\n",
    "<h4>Impact</h4>\r\n",
    "<p>This project will empower bar and pub owners to make data-driven decisions, improving operational efficiency and enhancing customer experiences. Urban planners will benefit from insights that support sustainable development and vibrant nightlife in Melbourne, contributing to the city's economic and social vitality.</p>\r\n",
    "\r\n",
    "<h4>Datasets</h4>\r\n",
    "<div class=\"usecase-subsection-blurb\">\r\n",
    "  <i>1. Bars, Taverns, and Pub Patron Capacity</i> \r\n",
    "  <br>\r\n",
    "  <a href=\"https://data.melbourne.vic.gov.au/explore/dataset/bars-and-pubs-with-patron-capacity/information/\" target=\"_blank\">Link to Dataset 1</a>\r\n",
    "  <br>\r\n",
    "</div>\r\n",
    "<br>\r\n",
    "<div class=\"usecase-subsection-blurb\">\r\n",
    "  <i>2. Pedestrian Counting System - Sensor Locations</i> \r\n",
    "  <br>\r\n",
    "  <a href=\"https://data.melbourne.vic.gov.au/explore/dataset/pedestrian-counting-system-sensor-locations/information/\" target=\"_blank\">Link to Dataset 2</a>\r\n",
    "  <br>\r\n",
    "</div>\r\n",
    "<br>\r\n"
   ]
  },
  {
   "cell_type": "markdown",
   "metadata": {},
   "source": [
    "## Install necessary libraries (Optional)"
   ]
  },
  {
   "cell_type": "code",
   "execution_count": 1,
   "metadata": {},
   "outputs": [],
   "source": [
    "# !pip install requests pandas geopandas folium matplotlib seaborn"
   ]
  },
  {
   "cell_type": "markdown",
   "metadata": {},
   "source": [
    "## Importing all the necessory libraries"
   ]
  },
  {
   "cell_type": "code",
   "execution_count": 23,
   "metadata": {},
   "outputs": [],
   "source": [
    "import requests\n",
    "import pandas as pd\n",
    "from io import StringIO\n",
    "import geopandas as gpd\n",
    "import folium\n",
    "from folium.plugins import MarkerCluster\n",
    "import matplotlib.pyplot as plt\n",
    "import seaborn as sns\n",
    "import warnings\n",
    "warnings.filterwarnings('ignore')"
   ]
  },
  {
   "cell_type": "markdown",
   "metadata": {},
   "source": [
    "### Dataset Import Through API"
   ]
  },
  {
   "cell_type": "code",
   "execution_count": 24,
   "metadata": {},
   "outputs": [],
   "source": [
    "#Function to collect data\n",
    "def collect_data(dataset_id):\n",
    "    base_url = 'https://data.melbourne.vic.gov.au/api/explore/v2.1/catalog/datasets/'\n",
    "    #apikey = api_key #use if use datasets API_key permissions\n",
    "    dataset_id = dataset_id\n",
    "    format = 'csv'\n",
    "\n",
    "    url = f'{base_url}{dataset_id}/exports/{format}'\n",
    "    params = {\n",
    "        'select': '*',\n",
    "        'limit': -1,  # all records\n",
    "        'lang': 'en',\n",
    "        'timezone': 'UTC',\n",
    "        #'api_key': apikey  #use if use datasets API_key permissions\n",
    "    }\n",
    "\n",
    "    # GET request\n",
    "    response = requests.get(url, params=params)\n",
    "\n",
    "    if response.status_code == 200:\n",
    "        # StringIO to read the CSV data\n",
    "        url_content = response.content.decode('utf-8')\n",
    "        dataset = pd.read_csv(StringIO(url_content), delimiter=';')\n",
    "        return dataset\n",
    "    else:\n",
    "        print(f'Request failed with status code {response.status_code}')"
   ]
  },
  {
   "cell_type": "code",
   "execution_count": 29,
   "metadata": {},
   "outputs": [
    {
     "name": "stdout",
     "output_type": "stream",
     "text": [
      "The dataset contains 4696 records.\n",
      "The dataset contains 60055 records.\n"
     ]
    }
   ],
   "source": [
    "# Set dataset_id to query for the API call dataset name\n",
    "dataset_id1 = 'bars-and-pubs-with-patron-capacity'\n",
    "dataset_id2 = 'cafes-and-restaurants-with-seating-capacity'\n",
    "# Save dataset to df varaible\n",
    "bars_pubs = collect_data(dataset_id1)\n",
    "cafes_restaurants = collect_data(dataset_id2)\n",
    "# Check number of records in df\n",
    "print(f'The dataset contains {len(bars_pubs)} records.')\n",
    "print(f'The dataset contains {len(cafes_restaurants)} records.')"
   ]
  },
  {
   "cell_type": "code",
   "execution_count": 31,
   "metadata": {},
   "outputs": [
    {
     "data": {
      "text/html": [
       "<div>\n",
       "<style scoped>\n",
       "    .dataframe tbody tr th:only-of-type {\n",
       "        vertical-align: middle;\n",
       "    }\n",
       "\n",
       "    .dataframe tbody tr th {\n",
       "        vertical-align: top;\n",
       "    }\n",
       "\n",
       "    .dataframe thead th {\n",
       "        text-align: right;\n",
       "    }\n",
       "</style>\n",
       "<table border=\"1\" class=\"dataframe\">\n",
       "  <thead>\n",
       "    <tr style=\"text-align: right;\">\n",
       "      <th></th>\n",
       "      <th>census_year</th>\n",
       "      <th>block_id</th>\n",
       "      <th>property_id</th>\n",
       "      <th>base_property_id</th>\n",
       "      <th>building_address</th>\n",
       "      <th>clue_small_area</th>\n",
       "      <th>trading_name</th>\n",
       "      <th>business_address</th>\n",
       "      <th>number_of_patrons</th>\n",
       "      <th>longitude</th>\n",
       "      <th>latitude</th>\n",
       "      <th>location</th>\n",
       "    </tr>\n",
       "  </thead>\n",
       "  <tbody>\n",
       "    <tr>\n",
       "      <th>0</th>\n",
       "      <td>2002</td>\n",
       "      <td>11</td>\n",
       "      <td>108972</td>\n",
       "      <td>108972</td>\n",
       "      <td>10-22 Spencer Street MELBOURNE 3000</td>\n",
       "      <td>Melbourne (CBD)</td>\n",
       "      <td>Explorers Inn</td>\n",
       "      <td>10-22 Spencer Street MELBOURNE 3000</td>\n",
       "      <td>50</td>\n",
       "      <td>144.955254</td>\n",
       "      <td>-37.820511</td>\n",
       "      <td>-37.82051068881513, 144.95525416628004</td>\n",
       "    </tr>\n",
       "    <tr>\n",
       "      <th>1</th>\n",
       "      <td>2002</td>\n",
       "      <td>14</td>\n",
       "      <td>103172</td>\n",
       "      <td>103172</td>\n",
       "      <td>31-39 Elizabeth Street MELBOURNE 3000</td>\n",
       "      <td>Melbourne (CBD)</td>\n",
       "      <td>Connells Tavern</td>\n",
       "      <td>35 Elizabeth Street MELBOURNE 3000</td>\n",
       "      <td>350</td>\n",
       "      <td>144.964322</td>\n",
       "      <td>-37.817426</td>\n",
       "      <td>-37.81742610667125, 144.964321660097</td>\n",
       "    </tr>\n",
       "    <tr>\n",
       "      <th>2</th>\n",
       "      <td>2002</td>\n",
       "      <td>15</td>\n",
       "      <td>103944</td>\n",
       "      <td>103944</td>\n",
       "      <td>277-279 Flinders Lane MELBOURNE 3000</td>\n",
       "      <td>Melbourne (CBD)</td>\n",
       "      <td>De Biers</td>\n",
       "      <td>Unit 1, Basement , 277 Flinders Lane MELBOURNE...</td>\n",
       "      <td>400</td>\n",
       "      <td>144.965307</td>\n",
       "      <td>-37.817242</td>\n",
       "      <td>-37.81724194023457, 144.96530699086</td>\n",
       "    </tr>\n",
       "  </tbody>\n",
       "</table>\n",
       "</div>"
      ],
      "text/plain": [
       "   census_year  block_id  property_id  base_property_id  \\\n",
       "0         2002        11       108972            108972   \n",
       "1         2002        14       103172            103172   \n",
       "2         2002        15       103944            103944   \n",
       "\n",
       "                        building_address  clue_small_area     trading_name  \\\n",
       "0    10-22 Spencer Street MELBOURNE 3000  Melbourne (CBD)    Explorers Inn   \n",
       "1  31-39 Elizabeth Street MELBOURNE 3000  Melbourne (CBD)  Connells Tavern   \n",
       "2   277-279 Flinders Lane MELBOURNE 3000  Melbourne (CBD)         De Biers   \n",
       "\n",
       "                                    business_address  number_of_patrons  \\\n",
       "0                10-22 Spencer Street MELBOURNE 3000                 50   \n",
       "1                 35 Elizabeth Street MELBOURNE 3000                350   \n",
       "2  Unit 1, Basement , 277 Flinders Lane MELBOURNE...                400   \n",
       "\n",
       "    longitude   latitude                                location  \n",
       "0  144.955254 -37.820511  -37.82051068881513, 144.95525416628004  \n",
       "1  144.964322 -37.817426    -37.81742610667125, 144.964321660097  \n",
       "2  144.965307 -37.817242     -37.81724194023457, 144.96530699086  "
      ]
     },
     "execution_count": 31,
     "metadata": {},
     "output_type": "execute_result"
    }
   ],
   "source": [
    "# View df1\n",
    "bars_pubs.head(3)"
   ]
  },
  {
   "cell_type": "code",
   "execution_count": 32,
   "metadata": {},
   "outputs": [
    {
     "data": {
      "text/html": [
       "<div>\n",
       "<style scoped>\n",
       "    .dataframe tbody tr th:only-of-type {\n",
       "        vertical-align: middle;\n",
       "    }\n",
       "\n",
       "    .dataframe tbody tr th {\n",
       "        vertical-align: top;\n",
       "    }\n",
       "\n",
       "    .dataframe thead th {\n",
       "        text-align: right;\n",
       "    }\n",
       "</style>\n",
       "<table border=\"1\" class=\"dataframe\">\n",
       "  <thead>\n",
       "    <tr style=\"text-align: right;\">\n",
       "      <th></th>\n",
       "      <th>census_year</th>\n",
       "      <th>block_id</th>\n",
       "      <th>property_id</th>\n",
       "      <th>base_property_id</th>\n",
       "      <th>building_address</th>\n",
       "      <th>clue_small_area</th>\n",
       "      <th>trading_name</th>\n",
       "      <th>business_address</th>\n",
       "      <th>industry_anzsic4_code</th>\n",
       "      <th>industry_anzsic4_description</th>\n",
       "      <th>seating_type</th>\n",
       "      <th>number_of_seats</th>\n",
       "      <th>longitude</th>\n",
       "      <th>latitude</th>\n",
       "      <th>location</th>\n",
       "    </tr>\n",
       "  </thead>\n",
       "  <tbody>\n",
       "    <tr>\n",
       "      <th>0</th>\n",
       "      <td>2017</td>\n",
       "      <td>6</td>\n",
       "      <td>578324</td>\n",
       "      <td>573333</td>\n",
       "      <td>2 Swanston Street MELBOURNE 3000</td>\n",
       "      <td>Melbourne (CBD)</td>\n",
       "      <td>Transport Hotel</td>\n",
       "      <td>Tenancy 29, Ground , 2 Swanston Street MELBOUR...</td>\n",
       "      <td>4520</td>\n",
       "      <td>Pubs, Taverns and Bars</td>\n",
       "      <td>Seats - Indoor</td>\n",
       "      <td>230</td>\n",
       "      <td>144.969942</td>\n",
       "      <td>-37.817778</td>\n",
       "      <td>-37.817777826050005, 144.96994164279243</td>\n",
       "    </tr>\n",
       "    <tr>\n",
       "      <th>1</th>\n",
       "      <td>2017</td>\n",
       "      <td>6</td>\n",
       "      <td>578324</td>\n",
       "      <td>573333</td>\n",
       "      <td>2 Swanston Street MELBOURNE 3000</td>\n",
       "      <td>Melbourne (CBD)</td>\n",
       "      <td>Transport Hotel</td>\n",
       "      <td>Tenancy 29, Ground , 2 Swanston Street MELBOUR...</td>\n",
       "      <td>4520</td>\n",
       "      <td>Pubs, Taverns and Bars</td>\n",
       "      <td>Seats - Outdoor</td>\n",
       "      <td>120</td>\n",
       "      <td>144.969942</td>\n",
       "      <td>-37.817778</td>\n",
       "      <td>-37.817777826050005, 144.96994164279243</td>\n",
       "    </tr>\n",
       "    <tr>\n",
       "      <th>2</th>\n",
       "      <td>2017</td>\n",
       "      <td>11</td>\n",
       "      <td>103957</td>\n",
       "      <td>103957</td>\n",
       "      <td>517-537 Flinders Lane MELBOURNE 3000</td>\n",
       "      <td>Melbourne (CBD)</td>\n",
       "      <td>Altius Coffee Brewers</td>\n",
       "      <td>Shop , Ground , 517 Flinders Lane MELBOURNE 3000</td>\n",
       "      <td>4512</td>\n",
       "      <td>Takeaway Food Services</td>\n",
       "      <td>Seats - Outdoor</td>\n",
       "      <td>4</td>\n",
       "      <td>144.956486</td>\n",
       "      <td>-37.819875</td>\n",
       "      <td>-37.819875445799994, 144.95648638781466</td>\n",
       "    </tr>\n",
       "  </tbody>\n",
       "</table>\n",
       "</div>"
      ],
      "text/plain": [
       "   census_year  block_id  property_id  base_property_id  \\\n",
       "0         2017         6       578324            573333   \n",
       "1         2017         6       578324            573333   \n",
       "2         2017        11       103957            103957   \n",
       "\n",
       "                       building_address  clue_small_area  \\\n",
       "0      2 Swanston Street MELBOURNE 3000  Melbourne (CBD)   \n",
       "1      2 Swanston Street MELBOURNE 3000  Melbourne (CBD)   \n",
       "2  517-537 Flinders Lane MELBOURNE 3000  Melbourne (CBD)   \n",
       "\n",
       "            trading_name                                   business_address  \\\n",
       "0        Transport Hotel  Tenancy 29, Ground , 2 Swanston Street MELBOUR...   \n",
       "1        Transport Hotel  Tenancy 29, Ground , 2 Swanston Street MELBOUR...   \n",
       "2  Altius Coffee Brewers   Shop , Ground , 517 Flinders Lane MELBOURNE 3000   \n",
       "\n",
       "   industry_anzsic4_code industry_anzsic4_description     seating_type  \\\n",
       "0                   4520       Pubs, Taverns and Bars   Seats - Indoor   \n",
       "1                   4520       Pubs, Taverns and Bars  Seats - Outdoor   \n",
       "2                   4512       Takeaway Food Services  Seats - Outdoor   \n",
       "\n",
       "   number_of_seats   longitude   latitude  \\\n",
       "0              230  144.969942 -37.817778   \n",
       "1              120  144.969942 -37.817778   \n",
       "2                4  144.956486 -37.819875   \n",
       "\n",
       "                                  location  \n",
       "0  -37.817777826050005, 144.96994164279243  \n",
       "1  -37.817777826050005, 144.96994164279243  \n",
       "2  -37.819875445799994, 144.95648638781466  "
      ]
     },
     "execution_count": 32,
     "metadata": {},
     "output_type": "execute_result"
    }
   ],
   "source": [
    "# View df2\n",
    "cafes_restaurants.head(3)"
   ]
  },
  {
   "cell_type": "markdown",
   "metadata": {},
   "source": [
    "### Preprocessing Data"
   ]
  },
  {
   "cell_type": "markdown",
   "metadata": {},
   "source": [
    "#### Displaying available columns"
   ]
  },
  {
   "cell_type": "code",
   "execution_count": 5,
   "metadata": {},
   "outputs": [
    {
     "name": "stdout",
     "output_type": "stream",
     "text": [
      "Available columns in Bars and Pubs dataset:\n",
      "['census_year', 'block_id', 'property_id', 'base_property_id', 'building_address', 'clue_small_area', 'trading_name', 'business_address', 'number_of_patrons', 'longitude', 'latitude', 'location']\n"
     ]
    }
   ],
   "source": [
    "# Print available columns in Bars and Pubs dataset:\n",
    "print(\"Available columns in Bars and Pubs dataset:\")\n",
    "print(bars_pubs.columns.tolist())"
   ]
  },
  {
   "cell_type": "markdown",
   "metadata": {},
   "source": [
    "#### Removing Unwanted Columns"
   ]
  },
  {
   "cell_type": "code",
   "execution_count": 6,
   "metadata": {},
   "outputs": [
    {
     "name": "stdout",
     "output_type": "stream",
     "text": [
      "Remaining columns in Bars and Pubs dataset:\n",
      "['census_year', 'property_id', 'building_address', 'trading_name', 'number_of_patrons', 'longitude', 'latitude', 'location']\n"
     ]
    }
   ],
   "source": [
    "# Remove irrelevant columns\n",
    "columns_to_remove = ['block_id', 'base_property_id', 'clue_small_area', 'business_address']\n",
    "bars_pubs_updated = bars_pubs.drop(columns=columns_to_remove)\n",
    "\n",
    "# Verify the columns have been removed\n",
    "print(\"Remaining columns in Bars and Pubs dataset:\")\n",
    "print(bars_pubs_updated.columns.tolist())"
   ]
  },
  {
   "cell_type": "markdown",
   "metadata": {},
   "source": [
    "#### Identifying Missing Values"
   ]
  },
  {
   "cell_type": "code",
   "execution_count": 7,
   "metadata": {},
   "outputs": [
    {
     "name": "stdout",
     "output_type": "stream",
     "text": [
      "Missing values in each column:\n",
      "census_year           0\n",
      "property_id           0\n",
      "building_address      0\n",
      "trading_name          0\n",
      "number_of_patrons     0\n",
      "longitude            20\n",
      "latitude             20\n",
      "location             20\n",
      "dtype: int64\n"
     ]
    }
   ],
   "source": [
    "# Check for missing values in the dataset\n",
    "missing_values = bars_pubs_updated.isnull().sum()\n",
    "\n",
    "# Print the number of missing values in each column\n",
    "print(\"Missing values in each column:\")\n",
    "print(missing_values)"
   ]
  },
  {
   "cell_type": "markdown",
   "metadata": {},
   "source": [
    "#### Displaying Important Details of Missing Rows"
   ]
  },
  {
   "cell_type": "code",
   "execution_count": 8,
   "metadata": {},
   "outputs": [
    {
     "name": "stdout",
     "output_type": "stream",
     "text": [
      "'Building Address' and 'Trading Name' where 'Longitude', 'Latitude', or 'Location' are missing:\n",
      "                              building_address  \\\n",
      "41    353 Little Collins Street MELBOURNE 3000   \n",
      "123            4-6 Goldie Place MELBOURNE 3000   \n",
      "229            4-6 Goldie Place MELBOURNE 3000   \n",
      "953           13 Heffernan Lane MELBOURNE 3000   \n",
      "990          Evan Walker Bridge SOUTHBANK 3006   \n",
      "991     816 Lorimer Street PORT MELBOURNE 3207   \n",
      "1007        25-27 Rankins Road KENSINGTON 3031   \n",
      "2415      27-45 Whiteman Street SOUTHBANK 3006   \n",
      "2606     717-731 Collins Street DOCKLANDS 3008   \n",
      "2607         524 Macaulay Road KENSINGTON 3031   \n",
      "3177      42-44 Lonsdale Street MELBOURNE 3000   \n",
      "3420  143-175 Harbour Esplanade DOCKLANDS 3008   \n",
      "4104     607-623 Collins Street MELBOURNE 3000   \n",
      "4186  143-175 Harbour Esplanade DOCKLANDS 3008   \n",
      "4188   265-271 Racecourse Road KENSINGTON 3031   \n",
      "\n",
      "                          trading_name  \n",
      "41                    Grosvenor Tavern  \n",
      "123                Paris Cat Jazz Club  \n",
      "229                      The Paris Cat  \n",
      "953                     Union Electric  \n",
      "990                    Ponyfish Island  \n",
      "991      Underbridge Sports Bar & Cafe  \n",
      "1007  Flemington & Kensington RSL Club  \n",
      "2415             Kingpin Bowling Crown  \n",
      "2606                      Bar Nicional  \n",
      "2607                    Lost and Found  \n",
      "3177                            44 Bar  \n",
      "3420           Alumbra At Central Pier  \n",
      "4104    Batman's Hill On Collins Hotel  \n",
      "4186                           Alumbra  \n",
      "4188           The Quiet Man Irish Pub  \n"
     ]
    }
   ],
   "source": [
    "# Filter rows with missing values in 'longitude', 'latitude', or 'location'\n",
    "missing_values_df = bars_pubs_updated[bars_pubs_updated['longitude'].isnull() | \n",
    "                                      bars_pubs_updated['latitude'].isnull() | \n",
    "                                      bars_pubs_updated['location'].isnull()]\n",
    "\n",
    "# Select distinct 'building_address' and 'trading_name'\n",
    "distinct_missing_values = missing_values_df[['building_address', 'trading_name']].drop_duplicates()\n",
    "\n",
    "# Display the result\n",
    "print(\"'Building Address' and 'Trading Name' where 'Longitude', 'Latitude', or 'Location' are missing:\")\n",
    "print(distinct_missing_values)"
   ]
  },
  {
   "cell_type": "code",
   "execution_count": 9,
   "metadata": {},
   "outputs": [
    {
     "name": "stdout",
     "output_type": "stream",
     "text": [
      "Defaulting to user installation because normal site-packages is not writeable\n",
      "Requirement already satisfied: geopy in c:\\users\\venuk\\appdata\\roaming\\python\\python311\\site-packages (2.4.1)\n",
      "Requirement already satisfied: geographiclib<3,>=1.52 in c:\\users\\venuk\\appdata\\roaming\\python\\python311\\site-packages (from geopy) (2.0)\n"
     ]
    }
   ],
   "source": [
    "!pip install geopy"
   ]
  },
  {
   "cell_type": "markdown",
   "metadata": {},
   "source": [
    "#### Filling up missing values manually"
   ]
  },
  {
   "cell_type": "code",
   "execution_count": 10,
   "metadata": {},
   "outputs": [
    {
     "name": "stdout",
     "output_type": "stream",
     "text": [
      "Updated dataset with filled latitude and longitude:\n",
      "                              building_address   latitude   longitude\n",
      "19        42-44 Lonsdale Street MELBOURNE 3000 -37.809747  144.971087\n",
      "41    353 Little Collins Street MELBOURNE 3000 -37.815538  144.962986\n",
      "123            4-6 Goldie Place MELBOURNE 3000 -37.813249  144.960570\n",
      "168            4-6 Goldie Place MELBOURNE 3000 -37.813249  144.960570\n",
      "229            4-6 Goldie Place MELBOURNE 3000 -37.813249  144.960570\n",
      "...                                        ...        ...         ...\n",
      "4297           4-6 Goldie Place MELBOURNE 3000 -37.813249  144.960570\n",
      "4302          13 Heffernan Lane MELBOURNE 3000 -37.811798  144.966599\n",
      "4341  143-175 Harbour Esplanade DOCKLANDS 3008 -37.817410  144.945910\n",
      "4342  143-175 Harbour Esplanade DOCKLANDS 3008 -37.817410  144.945910\n",
      "4385           4-6 Goldie Place MELBOURNE 3000 -37.813249  144.960570\n",
      "\n",
      "[99 rows x 3 columns]\n"
     ]
    }
   ],
   "source": [
    "# Provided latitude and longitude values for the missing data\n",
    "address_coordinates = {\n",
    "    \"13 Heffernan Lane MELBOURNE 3000\": (-37.811798, 144.966599),\n",
    "    \"143-175 Harbour Esplanade DOCKLANDS 3008\": (-37.81741, 144.94591),\n",
    "    \"25-27 Rankins Road KENSINGTON 3031\": (-37.78929, 144.93211),\n",
    "    \"265-271 Racecourse Road KENSINGTON 3031\": (-37.78858, 144.93225),\n",
    "    \"27-45 Whiteman Street SOUTHBANK 3006\": (-37.8251819, 144.9582948),\n",
    "    \"353 Little Collins Street MELBOURNE 3000\": (-37.8155378, 144.9629855),\n",
    "    \"42-44 Lonsdale Street MELBOURNE 3000\": (-37.8097472, 144.9710871),\n",
    "    \"4-6 Goldie Place MELBOURNE 3000\": (-37.8132486, 144.9605705),\n",
    "    \"524 Macaulay Road KENSINGTON 3031\": (-37.794177, 144.9286062),\n",
    "    \"607-623 Collins Street MELBOURNE 3000\": (-37.8190018, 144.9541476),\n",
    "    \"717-731 Collins Street DOCKLANDS 3008\": (-37.8149, 144.9505),\n",
    "    \"816 Lorimer Street PORT MELBOURNE 3207\": (-37.8221281, 144.9309547),\n",
    "    \"Evan Walker Bridge SOUTHBANK 3006\": (-37.8196329, 144.9651296)\n",
    "}\n",
    "\n",
    "# Create a copy of the updated DataFrame and name it bars_pubs_cleaned\n",
    "bars_pubs_cleaned = bars_pubs_updated.copy()\n",
    "\n",
    "# Update the new DataFrame with the provided latitude and longitude values\n",
    "for address, (lat, lon) in address_coordinates.items():\n",
    "    bars_pubs_cleaned.loc[bars_pubs_cleaned['building_address'] == address, 'latitude'] = lat\n",
    "    bars_pubs_cleaned.loc[bars_pubs_cleaned['building_address'] == address, 'longitude'] = lon\n",
    "\n",
    "# Verify the updated values\n",
    "print(\"Updated dataset with filled latitude and longitude:\")\n",
    "print(bars_pubs_cleaned.loc[bars_pubs_cleaned['building_address'].isin(address_coordinates.keys()), ['building_address', 'latitude', 'longitude']])"
   ]
  },
  {
   "cell_type": "code",
   "execution_count": 11,
   "metadata": {},
   "outputs": [
    {
     "name": "stdout",
     "output_type": "stream",
     "text": [
      "Updated dataset with filled latitude, longitude, and location:\n",
      "                              building_address   latitude   longitude  \\\n",
      "19        42-44 Lonsdale Street MELBOURNE 3000 -37.809747  144.971087   \n",
      "41    353 Little Collins Street MELBOURNE 3000 -37.815538  144.962986   \n",
      "123            4-6 Goldie Place MELBOURNE 3000 -37.813249  144.960570   \n",
      "168            4-6 Goldie Place MELBOURNE 3000 -37.813249  144.960570   \n",
      "229            4-6 Goldie Place MELBOURNE 3000 -37.813249  144.960570   \n",
      "...                                        ...        ...         ...   \n",
      "4297           4-6 Goldie Place MELBOURNE 3000 -37.813249  144.960570   \n",
      "4302          13 Heffernan Lane MELBOURNE 3000 -37.811798  144.966599   \n",
      "4341  143-175 Harbour Esplanade DOCKLANDS 3008 -37.817410  144.945910   \n",
      "4342  143-175 Harbour Esplanade DOCKLANDS 3008 -37.817410  144.945910   \n",
      "4385           4-6 Goldie Place MELBOURNE 3000 -37.813249  144.960570   \n",
      "\n",
      "                      location  \n",
      "19    -37.8097472, 144.9710871  \n",
      "41    -37.8155378, 144.9629855  \n",
      "123   -37.8132486, 144.9605705  \n",
      "168   -37.8132486, 144.9605705  \n",
      "229   -37.8132486, 144.9605705  \n",
      "...                        ...  \n",
      "4297  -37.8132486, 144.9605705  \n",
      "4302    -37.811798, 144.966599  \n",
      "4341      -37.81741, 144.94591  \n",
      "4342      -37.81741, 144.94591  \n",
      "4385  -37.8132486, 144.9605705  \n",
      "\n",
      "[99 rows x 4 columns]\n"
     ]
    }
   ],
   "source": [
    "# Create a copy of the updated DataFrame and name it bars_pubs_cleaned\n",
    "bars_pubs_cleaned = bars_pubs_updated.copy()\n",
    "\n",
    "# Update the new DataFrame with the provided latitude and longitude values and fill location column\n",
    "for address, (lat, lon) in address_coordinates.items():\n",
    "    bars_pubs_cleaned.loc[bars_pubs_cleaned['building_address'] == address, 'latitude'] = lat\n",
    "    bars_pubs_cleaned.loc[bars_pubs_cleaned['building_address'] == address, 'longitude'] = lon\n",
    "    bars_pubs_cleaned.loc[bars_pubs_cleaned['building_address'] == address, 'location'] = f\"{lat}, {lon}\"\n",
    "\n",
    "# Verify the updated values\n",
    "print(\"Updated dataset with filled latitude, longitude, and location:\")\n",
    "print(bars_pubs_cleaned.loc[bars_pubs_cleaned['building_address'].isin(address_coordinates.keys()), ['building_address', 'latitude', 'longitude', 'location']])"
   ]
  },
  {
   "cell_type": "markdown",
   "metadata": {},
   "source": [
    "#### Rechecking Missing Values"
   ]
  },
  {
   "cell_type": "code",
   "execution_count": 12,
   "metadata": {},
   "outputs": [
    {
     "name": "stdout",
     "output_type": "stream",
     "text": [
      "Missing values in each column:\n",
      "census_year          0\n",
      "property_id          0\n",
      "building_address     0\n",
      "trading_name         0\n",
      "number_of_patrons    0\n",
      "longitude            0\n",
      "latitude             0\n",
      "location             0\n",
      "dtype: int64\n"
     ]
    }
   ],
   "source": [
    "# Check for missing values in the dataset\n",
    "missing_values_new = bars_pubs_cleaned.isnull().sum()\n",
    "\n",
    "# Print the number of missing values in each column\n",
    "print(\"Missing values in each column:\")\n",
    "print(missing_values_new)"
   ]
  },
  {
   "cell_type": "code",
   "execution_count": 13,
   "metadata": {},
   "outputs": [
    {
     "name": "stdout",
     "output_type": "stream",
     "text": [
      "     census_year  property_id  \\\n",
      "0           2009       100160   \n",
      "1           2011       100441   \n",
      "2           2002       100514   \n",
      "3           2005       100727   \n",
      "4           2016       100730   \n",
      "..           ...          ...   \n",
      "359         2019       640970   \n",
      "360         2016       664626   \n",
      "361         2020       692410   \n",
      "362         2021       709873   \n",
      "363         2022       709874   \n",
      "\n",
      "                                      building_address  \\\n",
      "0              196-200 A'Beckett Street MELBOURNE 3000   \n",
      "1           118-126 Ireland Street WEST MELBOURNE 3003   \n",
      "2            204-206 Arden Street NORTH MELBOURNE 3051   \n",
      "3                        5-9 Bank Place MELBOURNE 3000   \n",
      "4                      12-16 Bank Place MELBOURNE 3000   \n",
      "..                                                 ...   \n",
      "359            14-24 Batmans Hill Drive DOCKLANDS 3008   \n",
      "360                  230 Grattan Street PARKVILLE 3010   \n",
      "361  Novotel Melbourne South Wharf Hotel 7 Conventi...   \n",
      "362        95-109 Exhibition Street MELBOURNE VIC 3000   \n",
      "363   101-107 Little Collins Street MELBOURNE VIC 3000   \n",
      "\n",
      "                                  trading_name  number_of_patrons   longitude  \\\n",
      "0                  Nomads Industry Backpackers                200  144.957443   \n",
      "1                                Railway Hotel                241  144.942103   \n",
      "2    North Melbourne Football Club Social Club                210  144.941310   \n",
      "3                                 Mitre Tavern                300  144.960298   \n",
      "4                        Melbourne Savage Club                 90  144.960587   \n",
      "..                                         ...                ...         ...   \n",
      "359                                   Hightail                900  144.949822   \n",
      "360                                    HJC Bar                200  144.961193   \n",
      "361              Novotel Melbourne South Wharf                 50  144.952319   \n",
      "362                              Nick & Nora's                476  144.970686   \n",
      "363     Handpicked Urban Cellar Door Melbourne                353  144.970686   \n",
      "\n",
      "      latitude                                 location  \n",
      "0   -37.809992      -37.80999191344412, 144.95744282655  \n",
      "1   -37.806073  -37.806072915200005, 144.94210293190025  \n",
      "2   -37.798888    -37.79888820561025, 144.9413101818877  \n",
      "3   -37.816805  -37.816805469325374, 144.96029792995742  \n",
      "4   -37.816546   -37.81654648184162, 144.96058680913345  \n",
      "..         ...                                      ...  \n",
      "359 -37.821313      -37.82131269085, 144.94982202525404  \n",
      "360 -37.796777   -37.796776921155825, 144.9611927667791  \n",
      "361 -37.825430         -37.82542998795, 144.95231930285  \n",
      "362 -37.813639       -37.81363930815, 144.9706863215771  \n",
      "363 -37.813639       -37.81363930815, 144.9706863215771  \n",
      "\n",
      "[364 rows x 8 columns]\n"
     ]
    }
   ],
   "source": [
    "# Group by 'property_id' and find the index of the row with the maximum 'number_of_patrons' for each group\n",
    "idx = bars_pubs_cleaned.groupby(['property_id'])['number_of_patrons'].idxmax()\n",
    "\n",
    "# Use the indices to filter the DataFrame\n",
    "bars_pubs_deduplicated = bars_pubs_cleaned.loc[idx].reset_index(drop=True)\n",
    "\n",
    "# Verify the deduplicated DataFrame\n",
    "print(bars_pubs_deduplicated)"
   ]
  },
  {
   "cell_type": "markdown",
   "metadata": {},
   "source": [
    "### Exploratory Data Analysis"
   ]
  },
  {
   "cell_type": "code",
   "execution_count": 14,
   "metadata": {},
   "outputs": [
    {
     "data": {
      "image/png": "[encoded data removed]",
      "text/plain": [
       "<Figure size 1200x800 with 1 Axes>"
      ]
     },
     "metadata": {},
     "output_type": "display_data"
    }
   ],
   "source": [
    "# Aggregate the data to find the top 20 trading names with the highest patron capacity\n",
    "top_20_trading_names = bars_pubs_deduplicated.groupby('trading_name')['number_of_patrons'].sum().nlargest(20).reset_index()\n",
    "\n",
    "# Create the bar plot\n",
    "plt.figure(figsize=(12, 8))\n",
    "bar_plot = sns.barplot(x='number_of_patrons', y='trading_name', data=top_20_trading_names, palette='viridis')\n",
    "\n",
    "# Add the count on each bar\n",
    "for index, row in top_20_trading_names.iterrows():\n",
    "    bar_plot.text(row['number_of_patrons'], index, f'{row[\"number_of_patrons\"]}', va='center')\n",
    "\n",
    "plt.title('Top 20 Bars/ Pubs with Highest Patron Capacity')\n",
    "plt.xlabel('Total Number of Patrons')\n",
    "plt.ylabel('Trading Name')\n",
    "plt.show()"
   ]
  },
  {
   "cell_type": "code",
   "execution_count": 15,
   "metadata": {},
   "outputs": [
    {
     "data": {
      "image/png": "[encoded data removed]",
      "text/plain": [
       "<Figure size 1000x600 with 1 Axes>"
      ]
     },
     "metadata": {},
     "output_type": "display_data"
    },
    {
     "data": {
      "image/png": "[encoded data removed]",
      "text/plain": [
       "<Figure size 1000x600 with 1 Axes>"
      ]
     },
     "metadata": {},
     "output_type": "display_data"
    }
   ],
   "source": [
    "# Distribution of the number of patrons\n",
    "plt.figure(figsize=(10, 6))\n",
    "sns.histplot(bars_pubs_deduplicated['number_of_patrons'], bins=30, kde=True)\n",
    "plt.title('Distribution of Number of Patrons')\n",
    "plt.xlabel('Number of Patrons')\n",
    "plt.ylabel('Frequency')\n",
    "plt.show()\n",
    "\n",
    "# Box plot for the number of patrons\n",
    "plt.figure(figsize=(10, 6))\n",
    "sns.boxplot(x=bars_pubs_deduplicated['number_of_patrons'])\n",
    "plt.title('Box Plot of Number of Patrons')\n",
    "plt.xlabel('Number of Patrons')\n",
    "plt.show()"
   ]
  },
  {
   "cell_type": "code",
   "execution_count": 16,
   "metadata": {},
   "outputs": [
    {
     "name": "stdout",
     "output_type": "stream",
     "text": [
      "Defaulting to user installation because normal site-packages is not writeable\n",
      "Requirement already satisfied: ipywidgets in c:\\users\\venuk\\appdata\\roaming\\python\\python311\\site-packages (8.1.3)\n",
      "Requirement already satisfied: comm>=0.1.3 in c:\\users\\venuk\\appdata\\roaming\\python\\python311\\site-packages (from ipywidgets) (0.2.2)\n",
      "Requirement already satisfied: ipython>=6.1.0 in c:\\programdata\\anaconda3\\lib\\site-packages (from ipywidgets) (8.20.0)\n",
      "Requirement already satisfied: traitlets>=4.3.1 in c:\\programdata\\anaconda3\\lib\\site-packages (from ipywidgets) (5.7.1)\n",
      "Requirement already satisfied: widgetsnbextension~=4.0.11 in c:\\users\\venuk\\appdata\\roaming\\python\\python311\\site-packages (from ipywidgets) (4.0.11)\n",
      "Requirement already satisfied: jupyterlab-widgets~=3.0.11 in c:\\users\\venuk\\appdata\\roaming\\python\\python311\\site-packages (from ipywidgets) (3.0.11)\n",
      "Requirement already satisfied: decorator in c:\\programdata\\anaconda3\\lib\\site-packages (from ipython>=6.1.0->ipywidgets) (5.1.1)\n",
      "Requirement already satisfied: jedi>=0.16 in c:\\programdata\\anaconda3\\lib\\site-packages (from ipython>=6.1.0->ipywidgets) (0.18.1)\n",
      "Requirement already satisfied: matplotlib-inline in c:\\programdata\\anaconda3\\lib\\site-packages (from ipython>=6.1.0->ipywidgets) (0.1.6)\n",
      "Requirement already satisfied: prompt-toolkit<3.1.0,>=3.0.41 in c:\\programdata\\anaconda3\\lib\\site-packages (from ipython>=6.1.0->ipywidgets) (3.0.43)\n",
      "Requirement already satisfied: pygments>=2.4.0 in c:\\programdata\\anaconda3\\lib\\site-packages (from ipython>=6.1.0->ipywidgets) (2.15.1)\n",
      "Requirement already satisfied: stack-data in c:\\programdata\\anaconda3\\lib\\site-packages (from ipython>=6.1.0->ipywidgets) (0.2.0)\n",
      "Requirement already satisfied: colorama in c:\\programdata\\anaconda3\\lib\\site-packages (from ipython>=6.1.0->ipywidgets) (0.4.6)\n",
      "Requirement already satisfied: parso<0.9.0,>=0.8.0 in c:\\programdata\\anaconda3\\lib\\site-packages (from jedi>=0.16->ipython>=6.1.0->ipywidgets) (0.8.3)\n",
      "Requirement already satisfied: wcwidth in c:\\programdata\\anaconda3\\lib\\site-packages (from prompt-toolkit<3.1.0,>=3.0.41->ipython>=6.1.0->ipywidgets) (0.2.5)\n",
      "Requirement already satisfied: executing in c:\\programdata\\anaconda3\\lib\\site-packages (from stack-data->ipython>=6.1.0->ipywidgets) (0.8.3)\n",
      "Requirement already satisfied: asttokens in c:\\programdata\\anaconda3\\lib\\site-packages (from stack-data->ipython>=6.1.0->ipywidgets) (2.0.5)\n",
      "Requirement already satisfied: pure-eval in c:\\programdata\\anaconda3\\lib\\site-packages (from stack-data->ipython>=6.1.0->ipywidgets) (0.2.2)\n",
      "Requirement already satisfied: six in c:\\programdata\\anaconda3\\lib\\site-packages (from asttokens->stack-data->ipython>=6.1.0->ipywidgets) (1.16.0)\n",
      "Note: you may need to restart the kernel to use updated packages.\n"
     ]
    }
   ],
   "source": [
    "pip install --upgrade ipywidgets"
   ]
  },
  {
   "cell_type": "code",
   "execution_count": 21,
   "metadata": {},
   "outputs": [
    {
     "data": {
      "application/vnd.jupyter.widget-view+json": {
       "model_id": "3308ea5d8edd4ece9a992304b612c8c5",
       "version_major": 2,
       "version_minor": 0
      },
      "text/plain": [
       "interactive(children=(Dropdown(description='Select Bar/Pub:', options=('All Locations', 'Nomads Industry Backp…"
      ]
     },
     "metadata": {},
     "output_type": "display_data"
    },
    {
     "data": {
      "text/plain": [
       "<function __main__.update_map(trading_name)>"
      ]
     },
     "execution_count": 21,
     "metadata": {},
     "output_type": "execute_result"
    }
   ],
   "source": [
    "import geopandas as gpd\n",
    "import folium\n",
    "from folium.plugins import MarkerCluster\n",
    "import ipywidgets as widgets\n",
    "from IPython.display import display, clear_output\n",
    "\n",
    "# Convert DataFrame to GeoDataFrame\n",
    "gdf = gpd.GeoDataFrame(\n",
    "    bars_pubs_deduplicated,\n",
    "    geometry=gpd.points_from_xy(bars_pubs_deduplicated.longitude, bars_pubs_deduplicated.latitude),\n",
    "    crs=\"EPSG:4326\"\n",
    ")\n",
    "\n",
    "# Function to update and display the map based on the selected trading name\n",
    "def update_map(trading_name):\n",
    "    # Clear the previous map display\n",
    "    clear_output(wait=True)\n",
    "    \n",
    "    # Initialize the base map centered around Melbourne\n",
    "    melbourne_map = folium.Map(location=[-37.8136, 144.9631], zoom_start=12)\n",
    "    \n",
    "    # Use MarkerCluster to manage multiple markers\n",
    "    marker_cluster = MarkerCluster().add_to(melbourne_map)\n",
    "    \n",
    "    if trading_name == \"All Locations\":\n",
    "        # Add all markers if \"All Locations\" is selected\n",
    "        for idx, row in gdf.iterrows():\n",
    "            folium.CircleMarker(\n",
    "                location=[row.geometry.y, row.geometry.x],\n",
    "                radius=3,\n",
    "                color='blue',\n",
    "                fill=True,\n",
    "                fill_color='blue',\n",
    "                popup=f\"Trading Name: {row['trading_name']}, Patrons: {row['number_of_patrons']}\"\n",
    "            ).add_to(marker_cluster)\n",
    "    else:\n",
    "        # Filter the GeoDataFrame for the selected trading name\n",
    "        selected_gdf = gdf[gdf['trading_name'] == trading_name]\n",
    "        \n",
    "        # Add marker for the selected bar/pub\n",
    "        for idx, row in selected_gdf.iterrows():\n",
    "            folium.CircleMarker(\n",
    "                location=[row.geometry.y, row.geometry.x],\n",
    "                radius=8,\n",
    "                color='red',\n",
    "                fill=True,\n",
    "                fill_color='red',\n",
    "                popup=f\"Trading Name: {row['trading_name']}, Patrons: {row['number_of_patrons']}\"\n",
    "            ).add_to(marker_cluster)\n",
    "    \n",
    "    # Display the updated map\n",
    "    display(melbourne_map)\n",
    "\n",
    "# Create a dropdown for trading names with an option to show all locations\n",
    "trading_name_dropdown = widgets.Dropdown(\n",
    "    options=[\"All Locations\"] + list(gdf['trading_name'].unique()),\n",
    "    description='Select Bar/Pub:'\n",
    ")\n",
    "\n",
    "# Link the dropdown to the map update function and display the initial map\n",
    "widgets.interact(update_map, trading_name=trading_name_dropdown)"
   ]
  },
  {
   "cell_type": "code",
   "execution_count": 22,
   "metadata": {},
   "outputs": [],
   "source": [
    "# Save the deduplicated DataFrame to a CSV file\n",
    "bars_pubs_deduplicated.to_csv('bars_pubs_deduplicated.csv', index=False)"
   ]
  },
  {
   "cell_type": "code",
   "execution_count": null,
   "metadata": {},
   "outputs": [],
   "source": []
  }
 ],
 "metadata": {
  "kernelspec": {
   "display_name": "Python 3 (ipykernel)",
   "language": "python",
   "name": "python3"
  },
  "language_info": {
   "codemirror_mode": {
    "name": "ipython",
    "version": 3
   },
   "file_extension": ".py",
   "mimetype": "text/x-python",
   "name": "python",
   "nbconvert_exporter": "python",
   "pygments_lexer": "ipython3",
   "version": "3.11.7"
  },
  "vscode": {
   "interpreter": {
    "hash": "369f2c481f4da34e4445cda3fffd2e751bd1c4d706f27375911949ba6bb62e1c"
   }
  }
 },
 "nbformat": 4,
 "nbformat_minor": 4
}
