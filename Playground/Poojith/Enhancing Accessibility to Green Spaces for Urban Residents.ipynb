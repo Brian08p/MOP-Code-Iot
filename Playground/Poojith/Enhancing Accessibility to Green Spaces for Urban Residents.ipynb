{
 "cells": [
  {
   "cell_type": "code",
   "execution_count": null,
   "id": "4a520052",
   "metadata": {},
   "outputs": [],
   "source": [
    "print('This is a notebook created by Poojith')"
   ]
  }
 ],
 "metadata": {},
 "nbformat": 4,
 "nbformat_minor": 5
}
