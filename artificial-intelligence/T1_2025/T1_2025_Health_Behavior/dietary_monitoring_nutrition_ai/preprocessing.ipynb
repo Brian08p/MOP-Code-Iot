{
  "nbformat": 4,
  "nbformat_minor": 0,
  "metadata": {
    "colab": {
      "provenance": []
    },
    "kernelspec": {
      "name": "python3",
      "display_name": "Python 3"
    },
    "language_info": {
      "name": "python"
    }
  },
  "cells": [
    {
      "cell_type": "code",
      "execution_count": 1,
      "metadata": {
        "colab": {
          "base_uri": "https://localhost:8080/"
        },
        "id": "S3ekOkUx9qJa",
        "outputId": "320adac4-81a4-480d-d763-67c1372af905"
      },
      "outputs": [
        {
          "output_type": "stream",
          "name": "stdout",
          "text": [
            "✅ Colab notebook is working!\n"
          ]
        }
      ],
      "source": [
        "print(\"✅ Colab notebook is working!\")\n"
      ]
    }
  ]
}